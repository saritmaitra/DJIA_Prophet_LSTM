{
  "nbformat": 4,
  "nbformat_minor": 0,
  "metadata": {
    "colab": {
      "name": "DJIA_Prophet_LSTM.ipynb",
      "provenance": [],
      "authorship_tag": "ABX9TyNkKk/gW5OLA3uR3NJjTO6b",
      "include_colab_link": true
    },
    "kernelspec": {
      "name": "python3",
      "display_name": "Python 3"
    }
  },
  "cells": [
    {
      "cell_type": "markdown",
      "metadata": {
        "id": "view-in-github",
        "colab_type": "text"
      },
      "source": [
        "<a href=\"https://colab.research.google.com/github/saritmaitra/DJIA_Prophet_LSTM/blob/main/DJIA_Prophet_LSTM.ipynb\" target=\"_parent\"><img src=\"https://colab.research.google.com/assets/colab-badge.svg\" alt=\"Open In Colab\"/></a>"
      ]
    },
    {
      "cell_type": "code",
      "metadata": {
        "id": "dNzBo3BUqiLO"
      },
      "source": [
        "!pip install pyforest\r\n",
        "from pyforest import *\r\n",
        "pd.set_option('display.max_rows', 500)\r\n",
        "pd.set_option('display.max_columns', 500)\r\n",
        "pd.set_option('display.width', 150)\r\n",
        "import pandas_datareader as web\r\n",
        "import warnings\r\n",
        "warnings.filterwarnings(\"ignore\")\r\n",
        "pd.set_option('display.max_rows', 500)\r\n",
        "pd.set_option('display.max_columns', 500)\r\n",
        "pd.set_option('display.width', 150)\r\n",
        "plt.style.use('ggplot')\r\n"
      ],
      "execution_count": null,
      "outputs": []
    },
    {
      "cell_type": "code",
      "metadata": {
        "colab": {
          "base_uri": "https://localhost:8080/"
        },
        "id": "GgKbPYWRqn2E",
        "outputId": "c9471e0a-2302-4413-a3e1-ac78f441c96b"
      },
      "source": [
        "dji = web.DataReader('^DJI', data_source = 'yahoo', start = '2000-01-01')\r\n",
        "print(dji.head())\r\n",
        "print('\\n')\r\n",
        "print(dji.shape)"
      ],
      "execution_count": 2,
      "outputs": [
        {
          "output_type": "stream",
          "text": [
            "                    High           Low          Open         Close   Volume     Adj Close\n",
            "Date                                                                                     \n",
            "2000-01-03  11522.009766  11305.690430  11501.849609  11357.509766  1697500  11357.509766\n",
            "2000-01-04  11350.059570  10986.450195  11349.750000  10997.929688  1784200  10997.929688\n",
            "2000-01-05  11215.099609  10938.669922  10989.370117  11122.650391  2031900  11122.650391\n",
            "2000-01-06  11313.450195  11098.450195  11113.370117  11253.259766  1765500  11253.259766\n",
            "2000-01-07  11528.139648  11239.919922  11247.059570  11522.559570  1849000  11522.559570\n",
            "\n",
            "\n",
            "(5289, 6)\n"
          ],
          "name": "stdout"
        }
      ]
    },
    {
      "cell_type": "code",
      "metadata": {
        "colab": {
          "base_uri": "https://localhost:8080/",
          "height": 387
        },
        "id": "EOxJTl6JqrVT",
        "outputId": "74c11b9f-9d52-45e3-cff3-92ead6f3b435"
      },
      "source": [
        "plt.rcParams['figure.figsize'] = [14,6]\r\n",
        "dji_series = dji['Adj Close']\r\n",
        "dji_series.plot()\r\n",
        "plt.ylabel('Values (US$)')\r\n",
        "plt.title('DJI Adj Close price (year 2000 - till date')\r\n",
        "plt.show()"
      ],
      "execution_count": 3,
      "outputs": [
        {
          "output_type": "display_data",
          "data": {
            "application/javascript": [
              "\n",
              "        if (window._pyforest_update_imports_cell) { window._pyforest_update_imports_cell('import pandas as pd\\nimport matplotlib.pyplot as plt'); }\n",
              "    "
            ],
            "text/plain": [
              "<IPython.core.display.Javascript object>"
            ]
          },
          "metadata": {
            "tags": []
          }
        },
        {
          "output_type": "display_data",
          "data": {
            "application/javascript": [
              "\n",
              "        if (window._pyforest_update_imports_cell) { window._pyforest_update_imports_cell('import pandas as pd\\nimport matplotlib.pyplot as plt'); }\n",
              "    "
            ],
            "text/plain": [
              "<IPython.core.display.Javascript object>"
            ]
          },
          "metadata": {
            "tags": []
          }
        },
        {
          "output_type": "display_data",
          "data": {
            "application/javascript": [
              "\n",
              "        if (window._pyforest_update_imports_cell) { window._pyforest_update_imports_cell('import pandas as pd\\nimport matplotlib.pyplot as plt'); }\n",
              "    "
            ],
            "text/plain": [
              "<IPython.core.display.Javascript object>"
            ]
          },
          "metadata": {
            "tags": []
          }
        },
        {
          "output_type": "display_data",
          "data": {
            "application/javascript": [
              "\n",
              "        if (window._pyforest_update_imports_cell) { window._pyforest_update_imports_cell('import pandas as pd\\nimport matplotlib.pyplot as plt'); }\n",
              "    "
            ],
            "text/plain": [
              "<IPython.core.display.Javascript object>"
            ]
          },
          "metadata": {
            "tags": []
          }
        },
        {
          "output_type": "display_data",
          "data": {
            "image/png": "[encoded data removed]",
            "text/plain": [
              "<Figure size 1008x432 with 1 Axes>"
            ]
          },
          "metadata": {
            "tags": [],
            "needs_background": "light"
          }
        }
      ]
    },
    {
      "cell_type": "code",
      "metadata": {
        "colab": {
          "base_uri": "https://localhost:8080/",
          "height": 17
        },
        "id": "ePm9LMUKquwb",
        "outputId": "b4d8dd6c-7962-4f10-83ef-a5f0e3499f20"
      },
      "source": [
        "#Calculate the simple and log returns using the adjusted close prices:\r\n",
        "dji['simple_rtn'] = dji_series.pct_change()\r\n",
        "dji['log_rtn'] = np.log(dji_series/dji_series.shift(1))"
      ],
      "execution_count": 4,
      "outputs": [
        {
          "output_type": "display_data",
          "data": {
            "application/javascript": [
              "\n",
              "        if (window._pyforest_update_imports_cell) { window._pyforest_update_imports_cell('import pandas as pd\\nimport numpy as np\\nimport matplotlib.pyplot as plt'); }\n",
              "    "
            ],
            "text/plain": [
              "<IPython.core.display.Javascript object>"
            ]
          },
          "metadata": {
            "tags": []
          }
        }
      ]
    },
    {
      "cell_type": "code",
      "metadata": {
        "colab": {
          "base_uri": "https://localhost:8080/",
          "height": 583
        },
        "id": "dOiKJe9Fqxwz",
        "outputId": "e595e6ce-4bcc-4175-b2a0-c0df9fb8a00e"
      },
      "source": [
        "fig, ax = plt.subplots(3, 1, figsize=(14, 10), sharex=True)\r\n",
        "dji_series.plot(ax=ax[0])\r\n",
        "ax[0].set(title = 'DJIJ time series', ylabel = 'Dow Jones Adj Close price ($)')\r\n",
        "dji.simple_rtn.plot(ax=ax[1])\r\n",
        "ax[1].set(ylabel = 'Simple returns (%)')\r\n",
        "dji.log_rtn.plot(ax=ax[2])\r\n",
        "ax[2].set(xlabel = 'Date', ylabel = 'Log returns (%)')\r\n",
        "plt.show()"
      ],
      "execution_count": 5,
      "outputs": [
        {
          "output_type": "display_data",
          "data": {
            "application/javascript": [
              "\n",
              "        if (window._pyforest_update_imports_cell) { window._pyforest_update_imports_cell('import pandas as pd\\nimport numpy as np\\nimport matplotlib.pyplot as plt'); }\n",
              "    "
            ],
            "text/plain": [
              "<IPython.core.display.Javascript object>"
            ]
          },
          "metadata": {
            "tags": []
          }
        },
        {
          "output_type": "display_data",
          "data": {
            "application/javascript": [
              "\n",
              "        if (window._pyforest_update_imports_cell) { window._pyforest_update_imports_cell('import pandas as pd\\nimport numpy as np\\nimport matplotlib.pyplot as plt'); }\n",
              "    "
            ],
            "text/plain": [
              "<IPython.core.display.Javascript object>"
            ]
          },
          "metadata": {
            "tags": []
          }
        },
        {
          "output_type": "display_data",
          "data": {
            "image/png": "[encoded data removed]",
            "text/plain": [
              "<Figure size 1008x720 with 3 Axes>"
            ]
          },
          "metadata": {
            "tags": [],
            "needs_background": "light"
          }
        }
      ]
    },
    {
      "cell_type": "code",
      "metadata": {
        "colab": {
          "base_uri": "https://localhost:8080/",
          "height": 391
        },
        "id": "ANx-BToQq2vz",
        "outputId": "c36a288c-ad0a-448e-af6c-e7c16c1a30c4"
      },
      "source": [
        "#Calculate the rolling mean and standard deviation:\r\n",
        "df_rolling = dji[['simple_rtn']].rolling(window=21) .agg(['mean', 'std'])\r\n",
        "df_rolling.columns = df_rolling.columns.droplevel()\r\n",
        "\r\n",
        "#Join the rolling metrics to the original data:\r\n",
        "df_outliers = dji.join(df_rolling)\r\n",
        "\r\n",
        "#Define a function for detecting outliers:\r\n",
        "def indentify_outliers(row, n_sigmas=3):\r\n",
        "  x = row['simple_rtn']\r\n",
        "  mu = row['mean']\r\n",
        "  sigma = row['std']\r\n",
        "  if (x > mu + 3 * sigma) | (x < mu - 3 * sigma):\r\n",
        "    return 1\r\n",
        "  else:\r\n",
        "    return 0\r\n",
        "\r\n",
        "#Identify the outliers and extract their values for later use:\r\n",
        "df_outliers['outlier'] = df_outliers.apply(indentify_outliers,axis=1)\r\n",
        "outliers = df_outliers.loc[df_outliers['outlier'] == 1,['simple_rtn']]\r\n",
        "\r\n",
        "#Plot the results:\r\n",
        "fig, ax = plt.subplots()\r\n",
        "ax.plot(df_outliers.index, df_outliers.simple_rtn, color='gray', label='Normal')\r\n",
        "ax.scatter(outliers.index, outliers.simple_rtn, color='red', label='Anomaly')\r\n",
        "ax.set_title(\"DJI returns\")\r\n",
        "ax.legend(loc='lower right')\r\n",
        "plt.show()"
      ],
      "execution_count": 6,
      "outputs": [
        {
          "output_type": "display_data",
          "data": {
            "application/javascript": [
              "\n",
              "        if (window._pyforest_update_imports_cell) { window._pyforest_update_imports_cell('import pandas as pd\\nimport numpy as np\\nimport matplotlib.pyplot as plt'); }\n",
              "    "
            ],
            "text/plain": [
              "<IPython.core.display.Javascript object>"
            ]
          },
          "metadata": {
            "tags": []
          }
        },
        {
          "output_type": "display_data",
          "data": {
            "application/javascript": [
              "\n",
              "        if (window._pyforest_update_imports_cell) { window._pyforest_update_imports_cell('import pandas as pd\\nimport numpy as np\\nimport matplotlib.pyplot as plt'); }\n",
              "    "
            ],
            "text/plain": [
              "<IPython.core.display.Javascript object>"
            ]
          },
          "metadata": {
            "tags": []
          }
        },
        {
          "output_type": "display_data",
          "data": {
            "image/png": "[encoded data removed]",
            "text/plain": [
              "<Figure size 1008x432 with 1 Axes>"
            ]
          },
          "metadata": {
            "tags": [],
            "needs_background": "light"
          }
        }
      ]
    },
    {
      "cell_type": "code",
      "metadata": {
        "colab": {
          "base_uri": "https://localhost:8080/",
          "height": 518
        },
        "id": "PGx6jPVQq6Nc",
        "outputId": "dd113afd-6a18-44ad-c6bb-c2b336c489c4"
      },
      "source": [
        "import scipy.stats as scs\r\n",
        "import statsmodels.api as sm\r\n",
        "import statsmodels.tsa.api as smt\r\n",
        "\r\n",
        "r_range = np.linspace(min(dji['log_rtn'].dropna()), max(dji['log_rtn'].dropna()), num=1000)\r\n",
        "mu = dji['log_rtn'].dropna().mean()\r\n",
        "sigma = dji['log_rtn'].dropna().std()\r\n",
        "norm_pdf = scs.norm.pdf(r_range, loc=mu, scale=sigma)\r\n",
        "\r\n",
        "#Plot the histogram and the Q-Q plot:\r\n",
        "fig, ax = plt.subplots(1, 2, figsize=(16, 8))\r\n",
        "# histogram\r\n",
        "sns.distplot(dji['log_rtn'].dropna(), kde=False, norm_hist=True, ax=ax[0])\r\n",
        "ax[0].set_title('Distribution of DJI returns', fontsize=16)\r\n",
        "ax[0].plot(r_range, norm_pdf, 'g', lw=2, label=f'N({mu:.2f}, {sigma**2:.4f})')\r\n",
        "ax[0].legend(loc='upper left');\r\n",
        "# Q-Q plot\r\n",
        "qq = sm.qqplot(dji['log_rtn'].dropna().values, line='s', ax=ax[1])\r\n",
        "ax[1].set_title('Q-Q plot', fontsize = 16)\r\n",
        "plt.show()"
      ],
      "execution_count": 7,
      "outputs": [
        {
          "output_type": "display_data",
          "data": {
            "application/javascript": [
              "\n",
              "        if (window._pyforest_update_imports_cell) { window._pyforest_update_imports_cell('import pandas as pd\\nimport numpy as np\\nimport matplotlib.pyplot as plt'); }\n",
              "    "
            ],
            "text/plain": [
              "<IPython.core.display.Javascript object>"
            ]
          },
          "metadata": {
            "tags": []
          }
        },
        {
          "output_type": "display_data",
          "data": {
            "application/javascript": [
              "\n",
              "        if (window._pyforest_update_imports_cell) { window._pyforest_update_imports_cell('import pandas as pd\\nimport numpy as np\\nimport matplotlib.pyplot as plt'); }\n",
              "    "
            ],
            "text/plain": [
              "<IPython.core.display.Javascript object>"
            ]
          },
          "metadata": {
            "tags": []
          }
        },
        {
          "output_type": "display_data",
          "data": {
            "application/javascript": [
              "\n",
              "        if (window._pyforest_update_imports_cell) { window._pyforest_update_imports_cell('import pandas as pd\\nimport seaborn as sns\\nimport numpy as np\\nimport matplotlib.pyplot as plt'); }\n",
              "    "
            ],
            "text/plain": [
              "<IPython.core.display.Javascript object>"
            ]
          },
          "metadata": {
            "tags": []
          }
        },
        {
          "output_type": "display_data",
          "data": {
            "application/javascript": [
              "\n",
              "        if (window._pyforest_update_imports_cell) { window._pyforest_update_imports_cell('import pandas as pd\\nimport seaborn as sns\\nimport numpy as np\\nimport matplotlib.pyplot as plt'); }\n",
              "    "
            ],
            "text/plain": [
              "<IPython.core.display.Javascript object>"
            ]
          },
          "metadata": {
            "tags": []
          }
        },
        {
          "output_type": "display_data",
          "data": {
            "image/png": "[encoded data removed]",
            "text/plain": [
              "<Figure size 1152x576 with 2 Axes>"
            ]
          },
          "metadata": {
            "tags": [],
            "needs_background": "light"
          }
        }
      ]
    },
    {
      "cell_type": "code",
      "metadata": {
        "colab": {
          "base_uri": "https://localhost:8080/"
        },
        "id": "NNhpA3AHq9du",
        "outputId": "c8297bb3-6746-4579-b463-e8a14db430ca"
      },
      "source": [
        "dji['log_rtn'].describe()"
      ],
      "execution_count": 8,
      "outputs": [
        {
          "output_type": "execute_result",
          "data": {
            "text/plain": [
              "count    5288.000000\n",
              "mean        0.000190\n",
              "std         0.012076\n",
              "min        -0.138418\n",
              "25%        -0.004610\n",
              "50%         0.000514\n",
              "75%         0.005591\n",
              "max         0.107643\n",
              "Name: log_rtn, dtype: float64"
            ]
          },
          "metadata": {
            "tags": []
          },
          "execution_count": 8
        }
      ]
    },
    {
      "cell_type": "code",
      "metadata": {
        "colab": {
          "base_uri": "https://localhost:8080/"
        },
        "id": "FbBI5EcwrAM-",
        "outputId": "7b90ab08-1cb9-4791-c129-988d6b08faff"
      },
      "source": [
        "import scipy\r\n",
        "\r\n",
        "print(\"kurtosis:\", scipy.stats.kurtosis(dji['log_rtn'].dropna(),bias=False))\r\n",
        "print(\"skewness:\", scipy.stats.skew(dji['log_rtn'].dropna(),bias=False))\r\n",
        "print(\"JB:\", scipy.stats.jarque_bera(dji['log_rtn'].dropna()))"
      ],
      "execution_count": 9,
      "outputs": [
        {
          "output_type": "stream",
          "text": [
            "kurtosis: 13.03202267417283\n",
            "skewness: -0.3775068706795118\n",
            "JB: (37468.3151554281, 0.0)\n"
          ],
          "name": "stdout"
        }
      ]
    },
    {
      "cell_type": "code",
      "metadata": {
        "colab": {
          "base_uri": "https://localhost:8080/",
          "height": 625
        },
        "id": "7gRWzLcSrEEd",
        "outputId": "c7e8963d-3c97-47ce-c3ab-4c141d94bb46"
      },
      "source": [
        "N_LAGS = 50\r\n",
        "SIGNIFICANCE_LEVEL = 0.05\r\n",
        "\r\n",
        "fig, ax = plt.subplots(2, 1, figsize=(12, 10))\r\n",
        "smt.graphics.plot_acf(dji['log_rtn'].dropna() ** 2, lags=N_LAGS,\r\n",
        "                      alpha=SIGNIFICANCE_LEVEL, ax = ax[0])\r\n",
        "ax[0].set(title='Autocorrelation Plots', ylabel='Squared Returns')\r\n",
        "smt.graphics.plot_acf(np.abs(dji['log_rtn'].dropna()), lags=N_LAGS,\r\n",
        "                      alpha=SIGNIFICANCE_LEVEL, ax = ax[1])\r\n",
        "ax[1].set(ylabel='Absolute Returns',xlabel='Lag')\r\n",
        "plt.show()"
      ],
      "execution_count": 10,
      "outputs": [
        {
          "output_type": "display_data",
          "data": {
            "application/javascript": [
              "\n",
              "        if (window._pyforest_update_imports_cell) { window._pyforest_update_imports_cell('import pandas as pd\\nimport seaborn as sns\\nimport numpy as np\\nimport matplotlib.pyplot as plt'); }\n",
              "    "
            ],
            "text/plain": [
              "<IPython.core.display.Javascript object>"
            ]
          },
          "metadata": {
            "tags": []
          }
        },
        {
          "output_type": "display_data",
          "data": {
            "application/javascript": [
              "\n",
              "        if (window._pyforest_update_imports_cell) { window._pyforest_update_imports_cell('import pandas as pd\\nimport seaborn as sns\\nimport numpy as np\\nimport matplotlib.pyplot as plt'); }\n",
              "    "
            ],
            "text/plain": [
              "<IPython.core.display.Javascript object>"
            ]
          },
          "metadata": {
            "tags": []
          }
        },
        {
          "output_type": "display_data",
          "data": {
            "application/javascript": [
              "\n",
              "        if (window._pyforest_update_imports_cell) { window._pyforest_update_imports_cell('import pandas as pd\\nimport seaborn as sns\\nimport numpy as np\\nimport matplotlib.pyplot as plt'); }\n",
              "    "
            ],
            "text/plain": [
              "<IPython.core.display.Javascript object>"
            ]
          },
          "metadata": {
            "tags": []
          }
        },
        {
          "output_type": "display_data",
          "data": {
            "image/png": "[encoded data removed]",
            "text/plain": [
              "<Figure size 864x720 with 2 Axes>"
            ]
          },
          "metadata": {
            "tags": [],
            "needs_background": "light"
          }
        }
      ]
    },
    {
      "cell_type": "code",
      "metadata": {
        "id": "mpL92390rHLc"
      },
      "source": [
        "import math\r\n",
        "import warnings\r\n",
        "import numpy as np\r\n",
        "\r\n",
        "# specify to ignore warning messages\r\n",
        "warnings.filterwarnings(\"ignore\") \r\n",
        "\r\n",
        "import keras\r\n",
        "from sklearn.metrics import mean_squared_error\r\n",
        "import pandas_datareader as pdr\r\n",
        "\r\n",
        "from keras.layers import LSTM\r\n",
        "from keras.models import Sequential\r\n",
        "from keras.layers.wrappers import TimeDistributed\r\n",
        "from keras.layers.core import Dense, Activation, Dropout\r\n",
        "\r\n",
        "from sklearn.preprocessing import MinMaxScaler"
      ],
      "execution_count": 11,
      "outputs": []
    },
    {
      "cell_type": "code",
      "metadata": {
        "id": "H3vH-1WIrOxs"
      },
      "source": [
        "# prepare training and testing data sets for LSTM based regression modeling\r\n",
        "def get_reg_train_test(timeseries,sequence_length= 51,\r\n",
        "                   train_size=0.9,roll_mean_window=5,\r\n",
        "                   normalize=True,scale=False):\r\n",
        "    # smoothen out series\r\n",
        "    if roll_mean_window:\r\n",
        "        timeseries = timeseries.rolling(roll_mean_window).mean().dropna()\r\n",
        "    \r\n",
        "    # create windows\r\n",
        "    result = []\r\n",
        "    for index in range(len(timeseries) - sequence_length):\r\n",
        "        result.append(timeseries[index: index + sequence_length])\r\n",
        "           \r\n",
        "    \r\n",
        "    # normalize data as a variation of 0th index\r\n",
        "    if normalize:\r\n",
        "        normalised_data = []\r\n",
        "        for window in result:\r\n",
        "            normalised_window = [((float(p) / float(window[0])) - 1) \\\r\n",
        "                                   for p in window]\r\n",
        "            normalised_data.append(normalised_window)\r\n",
        "        result = normalised_data\r\n",
        "    \r\n",
        "    # identify train-test splits\r\n",
        "    result = np.array(result) \r\n",
        "    row = round(train_size * result.shape[0])\r\n",
        "    \r\n",
        "    # split train and test sets\r\n",
        "    train = result[:int(row), :]\r\n",
        "    test = result[int(row):, :]\r\n",
        "    \r\n",
        "    # scale data in 0-1 range\r\n",
        "    scaler = None\r\n",
        "    if scale:\r\n",
        "        scaler=MinMaxScaler(feature_range=(0, 1))\r\n",
        "        train = scaler.fit_transform(train)\r\n",
        "        test = scaler.transform(test)\r\n",
        "      \r\n",
        "    # split independent and dependent variables  \r\n",
        "    x_train = train[:, :-1]\r\n",
        "    y_train = train[:, -1]\r\n",
        "        \r\n",
        "        \r\n",
        "    x_test = test[:, :-1]\r\n",
        "    y_test = test[:, -1]\r\n",
        "    \r\n",
        "    # Transforms for LSTM input\r\n",
        "    x_train = np.reshape(x_train, (x_train.shape[0], \r\n",
        "                                   x_train.shape[1], \r\n",
        "                                   1))\r\n",
        "    x_test = np.reshape(x_test, (x_test.shape[0], \r\n",
        "                                 x_test.shape[1], \r\n",
        "                                 1)) \r\n",
        "    \r\n",
        "    return x_train,y_train,x_test,y_test,scaler   "
      ],
      "execution_count": 12,
      "outputs": []
    },
    {
      "cell_type": "code",
      "metadata": {
        "id": "MZ4OtmKkrSr0"
      },
      "source": [
        "# training and testing data sets for LSTM based sequence modeling\r\n",
        "def get_seq_train_test(time_series, scaling=True,train_size=0.9):\r\n",
        "    scaler = None\r\n",
        "    if scaling:\r\n",
        "        scaler = MinMaxScaler(feature_range=(0, 1))\r\n",
        "        time_series = np.array(time_series).reshape(-1,1)\r\n",
        "        scaled_stock_series = scaler.fit_transform(time_series)\r\n",
        "    else:\r\n",
        "        scaled_stock_series = time_series\r\n",
        "        \r\n",
        "    train_size = int(len(scaled_stock_series) * train_size)\r\n",
        "\r\n",
        "    train = scaled_stock_series[0:train_size]\r\n",
        "    test = scaled_stock_series[train_size:len(scaled_stock_series)]\r\n",
        "    \r\n",
        "    return train,test,scaler "
      ],
      "execution_count": 13,
      "outputs": []
    },
    {
      "cell_type": "code",
      "metadata": {
        "id": "wC5M3hnarVqF"
      },
      "source": [
        "# stacked LSTM model for regression modeling\r\n",
        "def get_reg_model(layer_units=[100,100],dropouts=[0.2,0.2],window_size=50):\r\n",
        "    # build LSTM network\r\n",
        "    model = Sequential()\r\n",
        "    \r\n",
        "    # hidden layer 1\r\n",
        "    model.add(LSTM(layer_units[0], \r\n",
        "                   input_shape=(window_size,1), \r\n",
        "                   return_sequences=True))\r\n",
        "    model.add(Dropout(dropouts[0]))\r\n",
        "    \r\n",
        "    # hidden layer 2\r\n",
        "    model.add(LSTM(layer_units[1]))\r\n",
        "    model.add(Dropout(dropouts[1]))\r\n",
        "    \r\n",
        "    # output layer\r\n",
        "    model.add(Dense(1))\r\n",
        "    model.add(Activation(\"linear\"))\r\n",
        "    \r\n",
        "    start = time.time()\r\n",
        "    model.compile(loss=\"mse\", optimizer=\"adam\")\r\n",
        "    print(\"> Compilation Time : \", time.time() - start)\r\n",
        "    print(model.summary())\r\n",
        "    return model"
      ],
      "execution_count": 14,
      "outputs": []
    },
    {
      "cell_type": "code",
      "metadata": {
        "id": "1WZQA8nXrZV3"
      },
      "source": [
        "# LSTM model for sequence modeling\r\n",
        "def get_seq_model(hidden_units=4,input_shape=(1,1),verbose=False):\r\n",
        "    # create and fit the LSTM network\r\n",
        "    model = Sequential()\r\n",
        "    # samples*timesteps*featuress\r\n",
        "\r\n",
        "    model.add(LSTM(input_shape=input_shape, \r\n",
        "                   units = hidden_units, \r\n",
        "                   return_sequences=True))\r\n",
        "    \r\n",
        "    # readout layer. TimeDistributedDense uses the same weights for all\r\n",
        "    # time steps.\r\n",
        "    model.add(TimeDistributed(Dense(1)))\r\n",
        "    start = time.time()\r\n",
        "    \r\n",
        "    model.compile(loss=\"mse\", optimizer=\"rmsprop\")\r\n",
        "    \r\n",
        "    if verbose:\r\n",
        "        print(\"> Compilation Time : \", time.time() - start)\r\n",
        "        print(model.summary())\r\n",
        "        \r\n",
        "    return model"
      ],
      "execution_count": 15,
      "outputs": []
    },
    {
      "cell_type": "code",
      "metadata": {
        "id": "BSFttf6CrcHN"
      },
      "source": [
        "# Window wise prediction function\r\n",
        "def predict_reg_multiple(model, data, window_size=6, prediction_len=3):\r\n",
        "    prediction_list = []\r\n",
        "    \r\n",
        "    # loop for every sequence in the dataset\r\n",
        "    for window in range(int(len(data)/prediction_len)):\r\n",
        "        _seq = data[window*prediction_len]\r\n",
        "        predicted = []\r\n",
        "        # loop till required prediction length is achieved\r\n",
        "        for j in range(prediction_len):\r\n",
        "            predicted.append(model.predict(_seq[np.newaxis,:,:])[0,0])\r\n",
        "            _seq = _seq[1:]\r\n",
        "            _seq = np.insert(_seq, [window_size-1], predicted[-1], axis=0)\r\n",
        "        prediction_list.append(predicted)\r\n",
        "    return prediction_list"
      ],
      "execution_count": 16,
      "outputs": []
    },
    {
      "cell_type": "code",
      "metadata": {
        "id": "SHqjwxa0rfBO"
      },
      "source": [
        "# Plot \r\n",
        "def plot_reg_results(predicted_data, true_data, prediction_len=3):\r\n",
        "    fig = plt.figure(facecolor='white')\r\n",
        "    ax = fig.add_subplot(111)\r\n",
        "    \r\n",
        "    # plot actual data\r\n",
        "    ax.plot(true_data, \r\n",
        "            label='True Data',\r\n",
        "            c='black',alpha=0.3)\r\n",
        "    \r\n",
        "    # plot flattened data\r\n",
        "    plt.plot(np.array(predicted_data).flatten(), \r\n",
        "             label='Prediction_full',\r\n",
        "             c='g',linestyle='--')\r\n",
        "    \r\n",
        "    #plot each window in the prediction list\r\n",
        "    for i, data in enumerate(predicted_data):\r\n",
        "        padding = [None for p in range(i * prediction_len)]\r\n",
        "        plt.plot(padding + data, label='Prediction',c='black')\r\n",
        "\r\n",
        "    plt.title(\"Forecast Plot with Prediction Window={}\".format(prediction_len))\r\n",
        "    plt.show()"
      ],
      "execution_count": 17,
      "outputs": []
    },
    {
      "cell_type": "code",
      "metadata": {
        "id": "iIH-O6U-ri7l"
      },
      "source": [
        "#dataset.tail(1)"
      ],
      "execution_count": null,
      "outputs": []
    },
    {
      "cell_type": "code",
      "metadata": {
        "id": "6oSdD52ornce"
      },
      "source": [
        "from fbprophet import Prophet\r\n",
        "\r\n",
        "# reset index to get date_time as a column\r\n",
        "prophet = dji_series.reset_index()\r\n",
        "\r\n",
        "# prepare the required dataframe\r\n",
        "prophet.rename(columns={'Date':'ds','Adj Close':'y'},inplace=True)\r\n",
        "prophet = prophet[['ds','y']]"
      ],
      "execution_count": 19,
      "outputs": []
    },
    {
      "cell_type": "code",
      "metadata": {
        "id": "QpY4QfC8rq0O"
      },
      "source": [
        "train_percent = 0.90\r\n",
        "# prepare train and test sets\r\n",
        "train_size = int(prophet.shape[0]*train_percent)\r\n",
        "train = prophet.iloc[:train_size]\r\n",
        "test = prophet.iloc[train_size+1:]"
      ],
      "execution_count": 20,
      "outputs": []
    },
    {
      "cell_type": "code",
      "metadata": {
        "colab": {
          "base_uri": "https://localhost:8080/",
          "height": 195
        },
        "id": "nD-yOJPBrtel",
        "outputId": "38b9a306-6bc6-4bfd-92e3-faf0d4182507"
      },
      "source": [
        "test.tail()"
      ],
      "execution_count": 21,
      "outputs": [
        {
          "output_type": "execute_result",
          "data": {
            "text/html": [
              "<div>\n",
              "<style scoped>\n",
              "    .dataframe tbody tr th:only-of-type {\n",
              "        vertical-align: middle;\n",
              "    }\n",
              "\n",
              "    .dataframe tbody tr th {\n",
              "        vertical-align: top;\n",
              "    }\n",
              "\n",
              "    .dataframe thead th {\n",
              "        text-align: right;\n",
              "    }\n",
              "</style>\n",
              "<table border=\"1\" class=\"dataframe\">\n",
              "  <thead>\n",
              "    <tr style=\"text-align: right;\">\n",
              "      <th></th>\n",
              "      <th>ds</th>\n",
              "      <th>y</th>\n",
              "    </tr>\n",
              "  </thead>\n",
              "  <tbody>\n",
              "    <tr>\n",
              "      <th>5284</th>\n",
              "      <td>2021-01-04</td>\n",
              "      <td>30223.890625</td>\n",
              "    </tr>\n",
              "    <tr>\n",
              "      <th>5285</th>\n",
              "      <td>2021-01-05</td>\n",
              "      <td>30391.599609</td>\n",
              "    </tr>\n",
              "    <tr>\n",
              "      <th>5286</th>\n",
              "      <td>2021-01-06</td>\n",
              "      <td>30829.400391</td>\n",
              "    </tr>\n",
              "    <tr>\n",
              "      <th>5287</th>\n",
              "      <td>2021-01-07</td>\n",
              "      <td>31041.130859</td>\n",
              "    </tr>\n",
              "    <tr>\n",
              "      <th>5288</th>\n",
              "      <td>2021-01-08</td>\n",
              "      <td>31097.970703</td>\n",
              "    </tr>\n",
              "  </tbody>\n",
              "</table>\n",
              "</div>"
            ],
            "text/plain": [
              "             ds             y\n",
              "5284 2021-01-04  30223.890625\n",
              "5285 2021-01-05  30391.599609\n",
              "5286 2021-01-06  30829.400391\n",
              "5287 2021-01-07  31041.130859\n",
              "5288 2021-01-08  31097.970703"
            ]
          },
          "metadata": {
            "tags": []
          },
          "execution_count": 21
        }
      ]
    },
    {
      "cell_type": "code",
      "metadata": {
        "colab": {
          "base_uri": "https://localhost:8080/"
        },
        "id": "CSkd4xv6rxP1",
        "outputId": "abdcfed9-7598-4209-a9c4-1c00d83d2796"
      },
      "source": [
        "# build a prophet model\r\n",
        "model_prophet = Prophet()\r\n",
        "\r\n",
        "# fit the model\r\n",
        "model_prophet.fit(train)"
      ],
      "execution_count": 22,
      "outputs": [
        {
          "output_type": "stream",
          "text": [
            "INFO:fbprophet:Disabling daily seasonality. Run prophet with daily_seasonality=True to override this.\n"
          ],
          "name": "stderr"
        },
        {
          "output_type": "execute_result",
          "data": {
            "text/plain": [
              "<fbprophet.forecaster.Prophet at 0x7fa2b13f0470>"
            ]
          },
          "metadata": {
            "tags": []
          },
          "execution_count": 22
        }
      ]
    },
    {
      "cell_type": "code",
      "metadata": {
        "colab": {
          "base_uri": "https://localhost:8080/"
        },
        "id": "PBNu6r92r32g",
        "outputId": "f3d3735c-eae5-483b-a27b-70a84e3c0cc0"
      },
      "source": [
        "test.shape[0]"
      ],
      "execution_count": 23,
      "outputs": [
        {
          "output_type": "execute_result",
          "data": {
            "text/plain": [
              "528"
            ]
          },
          "metadata": {
            "tags": []
          },
          "execution_count": 23
        }
      ]
    },
    {
      "cell_type": "code",
      "metadata": {
        "id": "r4rdpfNGr6v_"
      },
      "source": [
        "# prepare a future dataframe\r\n",
        "future_dates = model_prophet.make_future_dataframe(periods=test.shape[0])\r\n",
        "# test.shape[0] = 515\r\n",
        "\r\n",
        "# forecast values\r\n",
        "forecast = model_prophet.predict(future_dates)"
      ],
      "execution_count": 24,
      "outputs": []
    },
    {
      "cell_type": "markdown",
      "metadata": {
        "id": "fYhXdM17sBCY"
      },
      "source": [
        "**Plot test prediction**"
      ]
    },
    {
      "cell_type": "code",
      "metadata": {
        "colab": {
          "base_uri": "https://localhost:8080/",
          "height": 458
        },
        "id": "UzkQhUnLsAce",
        "outputId": "8af7d4c6-4cca-4acd-bcb8-1b88d7eddc50"
      },
      "source": [
        "plt.rcParams['figure.figsize'] = [14,6]\r\n",
        "model_prophet.plot(forecast)\r\n",
        "plt.title('Prediction on Test data')\r\n",
        "plt.show()"
      ],
      "execution_count": 25,
      "outputs": [
        {
          "output_type": "display_data",
          "data": {
            "application/javascript": [
              "\n",
              "        if (window._pyforest_update_imports_cell) { window._pyforest_update_imports_cell('import pandas as pd\\nimport seaborn as sns\\nimport numpy as np\\nimport matplotlib.pyplot as plt'); }\n",
              "    "
            ],
            "text/plain": [
              "<IPython.core.display.Javascript object>"
            ]
          },
          "metadata": {
            "tags": []
          }
        },
        {
          "output_type": "display_data",
          "data": {
            "application/javascript": [
              "\n",
              "        if (window._pyforest_update_imports_cell) { window._pyforest_update_imports_cell('import pandas as pd\\nimport seaborn as sns\\nimport numpy as np\\nimport matplotlib.pyplot as plt'); }\n",
              "    "
            ],
            "text/plain": [
              "<IPython.core.display.Javascript object>"
            ]
          },
          "metadata": {
            "tags": []
          }
        },
        {
          "output_type": "display_data",
          "data": {
            "application/javascript": [
              "\n",
              "        if (window._pyforest_update_imports_cell) { window._pyforest_update_imports_cell('import pandas as pd\\nimport seaborn as sns\\nimport numpy as np\\nimport matplotlib.pyplot as plt'); }\n",
              "    "
            ],
            "text/plain": [
              "<IPython.core.display.Javascript object>"
            ]
          },
          "metadata": {
            "tags": []
          }
        },
        {
          "output_type": "display_data",
          "data": {
            "image/png": "[encoded data removed]",
            "text/plain": [
              "<Figure size 720x432 with 1 Axes>"
            ]
          },
          "metadata": {
            "tags": []
          }
        }
      ]
    },
    {
      "cell_type": "code",
      "metadata": {
        "colab": {
          "base_uri": "https://localhost:8080/",
          "height": 657
        },
        "id": "rrReaTpisKU0",
        "outputId": "e13cd04b-c923-45aa-9b70-db4f840b5721"
      },
      "source": [
        "fig1 = model_prophet.plot_components(forecast)"
      ],
      "execution_count": 26,
      "outputs": [
        {
          "output_type": "display_data",
          "data": {
            "image/png": "[encoded data removed]",
            "text/plain": [
              "<Figure size 648x648 with 3 Axes>"
            ]
          },
          "metadata": {
            "tags": []
          }
        }
      ]
    },
    {
      "cell_type": "code",
      "metadata": {
        "colab": {
          "base_uri": "https://localhost:8080/",
          "height": 441
        },
        "id": "WsatKxVisN7W",
        "outputId": "93287261-9f9a-4dbd-8e83-ec1cf6af86a7"
      },
      "source": [
        "from fbprophet.plot import add_changepoints_to_plot\r\n",
        "fig = model_prophet.plot(forecast)\r\n",
        "a = add_changepoints_to_plot(fig.gca(), model_prophet, forecast)"
      ],
      "execution_count": 27,
      "outputs": [
        {
          "output_type": "display_data",
          "data": {
            "image/png": "[encoded data removed]",
            "text/plain": [
              "<Figure size 720x432 with 1 Axes>"
            ]
          },
          "metadata": {
            "tags": []
          }
        }
      ]
    },
    {
      "cell_type": "code",
      "metadata": {
        "colab": {
          "base_uri": "https://localhost:8080/",
          "height": 299
        },
        "id": "1TpAehkxsQiH",
        "outputId": "b194dfbb-0e28-4ff0-867c-798f949f3728"
      },
      "source": [
        "forecast.head()"
      ],
      "execution_count": 28,
      "outputs": [
        {
          "output_type": "execute_result",
          "data": {
            "text/html": [
              "<div>\n",
              "<style scoped>\n",
              "    .dataframe tbody tr th:only-of-type {\n",
              "        vertical-align: middle;\n",
              "    }\n",
              "\n",
              "    .dataframe tbody tr th {\n",
              "        vertical-align: top;\n",
              "    }\n",
              "\n",
              "    .dataframe thead th {\n",
              "        text-align: right;\n",
              "    }\n",
              "</style>\n",
              "<table border=\"1\" class=\"dataframe\">\n",
              "  <thead>\n",
              "    <tr style=\"text-align: right;\">\n",
              "      <th></th>\n",
              "      <th>ds</th>\n",
              "      <th>trend</th>\n",
              "      <th>yhat_lower</th>\n",
              "      <th>yhat_upper</th>\n",
              "      <th>trend_lower</th>\n",
              "      <th>trend_upper</th>\n",
              "      <th>additive_terms</th>\n",
              "      <th>additive_terms_lower</th>\n",
              "      <th>additive_terms_upper</th>\n",
              "      <th>weekly</th>\n",
              "      <th>weekly_lower</th>\n",
              "      <th>weekly_upper</th>\n",
              "      <th>yearly</th>\n",
              "      <th>yearly_lower</th>\n",
              "      <th>yearly_upper</th>\n",
              "      <th>multiplicative_terms</th>\n",
              "      <th>multiplicative_terms_lower</th>\n",
              "      <th>multiplicative_terms_upper</th>\n",
              "      <th>yhat</th>\n",
              "    </tr>\n",
              "  </thead>\n",
              "  <tbody>\n",
              "    <tr>\n",
              "      <th>0</th>\n",
              "      <td>2000-01-03</td>\n",
              "      <td>10929.050311</td>\n",
              "      <td>10224.382985</td>\n",
              "      <td>11937.643271</td>\n",
              "      <td>10929.050311</td>\n",
              "      <td>10929.050311</td>\n",
              "      <td>158.269799</td>\n",
              "      <td>158.269799</td>\n",
              "      <td>158.269799</td>\n",
              "      <td>-72.691701</td>\n",
              "      <td>-72.691701</td>\n",
              "      <td>-72.691701</td>\n",
              "      <td>230.961500</td>\n",
              "      <td>230.961500</td>\n",
              "      <td>230.961500</td>\n",
              "      <td>0.0</td>\n",
              "      <td>0.0</td>\n",
              "      <td>0.0</td>\n",
              "      <td>11087.320110</td>\n",
              "    </tr>\n",
              "    <tr>\n",
              "      <th>1</th>\n",
              "      <td>2000-01-04</td>\n",
              "      <td>10928.301621</td>\n",
              "      <td>10261.116090</td>\n",
              "      <td>11912.052740</td>\n",
              "      <td>10928.301621</td>\n",
              "      <td>10928.301621</td>\n",
              "      <td>165.465720</td>\n",
              "      <td>165.465720</td>\n",
              "      <td>165.465720</td>\n",
              "      <td>-67.058620</td>\n",
              "      <td>-67.058620</td>\n",
              "      <td>-67.058620</td>\n",
              "      <td>232.524340</td>\n",
              "      <td>232.524340</td>\n",
              "      <td>232.524340</td>\n",
              "      <td>0.0</td>\n",
              "      <td>0.0</td>\n",
              "      <td>0.0</td>\n",
              "      <td>11093.767341</td>\n",
              "    </tr>\n",
              "    <tr>\n",
              "      <th>2</th>\n",
              "      <td>2000-01-05</td>\n",
              "      <td>10927.552931</td>\n",
              "      <td>10264.482737</td>\n",
              "      <td>11931.208240</td>\n",
              "      <td>10927.552931</td>\n",
              "      <td>10927.552931</td>\n",
              "      <td>162.201743</td>\n",
              "      <td>162.201743</td>\n",
              "      <td>162.201743</td>\n",
              "      <td>-71.407442</td>\n",
              "      <td>-71.407442</td>\n",
              "      <td>-71.407442</td>\n",
              "      <td>233.609185</td>\n",
              "      <td>233.609185</td>\n",
              "      <td>233.609185</td>\n",
              "      <td>0.0</td>\n",
              "      <td>0.0</td>\n",
              "      <td>0.0</td>\n",
              "      <td>11089.754674</td>\n",
              "    </tr>\n",
              "    <tr>\n",
              "      <th>3</th>\n",
              "      <td>2000-01-06</td>\n",
              "      <td>10926.804242</td>\n",
              "      <td>10215.697353</td>\n",
              "      <td>11955.456431</td>\n",
              "      <td>10926.804242</td>\n",
              "      <td>10926.804242</td>\n",
              "      <td>163.268262</td>\n",
              "      <td>163.268262</td>\n",
              "      <td>163.268262</td>\n",
              "      <td>-70.882075</td>\n",
              "      <td>-70.882075</td>\n",
              "      <td>-70.882075</td>\n",
              "      <td>234.150336</td>\n",
              "      <td>234.150336</td>\n",
              "      <td>234.150336</td>\n",
              "      <td>0.0</td>\n",
              "      <td>0.0</td>\n",
              "      <td>0.0</td>\n",
              "      <td>11090.072503</td>\n",
              "    </tr>\n",
              "    <tr>\n",
              "      <th>4</th>\n",
              "      <td>2000-01-07</td>\n",
              "      <td>10926.055552</td>\n",
              "      <td>10228.531427</td>\n",
              "      <td>11929.007814</td>\n",
              "      <td>10926.055552</td>\n",
              "      <td>10926.055552</td>\n",
              "      <td>161.783920</td>\n",
              "      <td>161.783920</td>\n",
              "      <td>161.783920</td>\n",
              "      <td>-72.298502</td>\n",
              "      <td>-72.298502</td>\n",
              "      <td>-72.298502</td>\n",
              "      <td>234.082422</td>\n",
              "      <td>234.082422</td>\n",
              "      <td>234.082422</td>\n",
              "      <td>0.0</td>\n",
              "      <td>0.0</td>\n",
              "      <td>0.0</td>\n",
              "      <td>11087.839472</td>\n",
              "    </tr>\n",
              "  </tbody>\n",
              "</table>\n",
              "</div>"
            ],
            "text/plain": [
              "          ds         trend    yhat_lower    yhat_upper   trend_lower   trend_upper  additive_terms  additive_terms_lower  additive_terms_upper  \\\n",
              "0 2000-01-03  10929.050311  10224.382985  11937.643271  10929.050311  10929.050311      158.269799            158.269799            158.269799   \n",
              "1 2000-01-04  10928.301621  10261.116090  11912.052740  10928.301621  10928.301621      165.465720            165.465720            165.465720   \n",
              "2 2000-01-05  10927.552931  10264.482737  11931.208240  10927.552931  10927.552931      162.201743            162.201743            162.201743   \n",
              "3 2000-01-06  10926.804242  10215.697353  11955.456431  10926.804242  10926.804242      163.268262            163.268262            163.268262   \n",
              "4 2000-01-07  10926.055552  10228.531427  11929.007814  10926.055552  10926.055552      161.783920            161.783920            161.783920   \n",
              "\n",
              "      weekly  weekly_lower  weekly_upper      yearly  yearly_lower  yearly_upper  multiplicative_terms  multiplicative_terms_lower  \\\n",
              "0 -72.691701    -72.691701    -72.691701  230.961500    230.961500    230.961500                   0.0                         0.0   \n",
              "1 -67.058620    -67.058620    -67.058620  232.524340    232.524340    232.524340                   0.0                         0.0   \n",
              "2 -71.407442    -71.407442    -71.407442  233.609185    233.609185    233.609185                   0.0                         0.0   \n",
              "3 -70.882075    -70.882075    -70.882075  234.150336    234.150336    234.150336                   0.0                         0.0   \n",
              "4 -72.298502    -72.298502    -72.298502  234.082422    234.082422    234.082422                   0.0                         0.0   \n",
              "\n",
              "   multiplicative_terms_upper          yhat  \n",
              "0                         0.0  11087.320110  \n",
              "1                         0.0  11093.767341  \n",
              "2                         0.0  11089.754674  \n",
              "3                         0.0  11090.072503  \n",
              "4                         0.0  11087.839472  "
            ]
          },
          "metadata": {
            "tags": []
          },
          "execution_count": 28
        }
      ]
    },
    {
      "cell_type": "code",
      "metadata": {
        "colab": {
          "base_uri": "https://localhost:8080/",
          "height": 391
        },
        "id": "RqYylJPOsUQP",
        "outputId": "b32d1631-2d10-4e9d-b066-06f89b5c6848"
      },
      "source": [
        "# the 1 sigma upper and lower analytic population bounds\r\n",
        "lower_bound = (forecast.yhat_lower.iloc[train_size+1:])\r\n",
        "upper_bound = (forecast.yhat_upper.iloc[train_size+1:])\r\n",
        "\r\n",
        "# plot against true data\r\n",
        "plt.plot(forecast['yhat'],c='r',label='Forecast')\r\n",
        "plt.plot(lower_bound,\r\n",
        "         linestyle='--',c='b',alpha=0.3,\r\n",
        "         label='Confidence Interval')\r\n",
        "plt.plot(upper_bound,\r\n",
        "         linestyle='--',c='b',alpha=0.3)\r\n",
        "plt.plot(prophet['y'],c='g',label='True Data')\r\n",
        "plt.legend()\r\n",
        "plt.title('Prophet Model Forecast vs Actutal Data')\r\n",
        "plt.show()"
      ],
      "execution_count": 29,
      "outputs": [
        {
          "output_type": "display_data",
          "data": {
            "application/javascript": [
              "\n",
              "        if (window._pyforest_update_imports_cell) { window._pyforest_update_imports_cell('import pandas as pd\\nimport seaborn as sns\\nimport numpy as np\\nimport matplotlib.pyplot as plt'); }\n",
              "    "
            ],
            "text/plain": [
              "<IPython.core.display.Javascript object>"
            ]
          },
          "metadata": {
            "tags": []
          }
        },
        {
          "output_type": "display_data",
          "data": {
            "application/javascript": [
              "\n",
              "        if (window._pyforest_update_imports_cell) { window._pyforest_update_imports_cell('import pandas as pd\\nimport seaborn as sns\\nimport numpy as np\\nimport matplotlib.pyplot as plt'); }\n",
              "    "
            ],
            "text/plain": [
              "<IPython.core.display.Javascript object>"
            ]
          },
          "metadata": {
            "tags": []
          }
        },
        {
          "output_type": "display_data",
          "data": {
            "application/javascript": [
              "\n",
              "        if (window._pyforest_update_imports_cell) { window._pyforest_update_imports_cell('import pandas as pd\\nimport seaborn as sns\\nimport numpy as np\\nimport matplotlib.pyplot as plt'); }\n",
              "    "
            ],
            "text/plain": [
              "<IPython.core.display.Javascript object>"
            ]
          },
          "metadata": {
            "tags": []
          }
        },
        {
          "output_type": "display_data",
          "data": {
            "application/javascript": [
              "\n",
              "        if (window._pyforest_update_imports_cell) { window._pyforest_update_imports_cell('import pandas as pd\\nimport seaborn as sns\\nimport numpy as np\\nimport matplotlib.pyplot as plt'); }\n",
              "    "
            ],
            "text/plain": [
              "<IPython.core.display.Javascript object>"
            ]
          },
          "metadata": {
            "tags": []
          }
        },
        {
          "output_type": "display_data",
          "data": {
            "application/javascript": [
              "\n",
              "        if (window._pyforest_update_imports_cell) { window._pyforest_update_imports_cell('import pandas as pd\\nimport seaborn as sns\\nimport numpy as np\\nimport matplotlib.pyplot as plt'); }\n",
              "    "
            ],
            "text/plain": [
              "<IPython.core.display.Javascript object>"
            ]
          },
          "metadata": {
            "tags": []
          }
        },
        {
          "output_type": "display_data",
          "data": {
            "application/javascript": [
              "\n",
              "        if (window._pyforest_update_imports_cell) { window._pyforest_update_imports_cell('import pandas as pd\\nimport seaborn as sns\\nimport numpy as np\\nimport matplotlib.pyplot as plt'); }\n",
              "    "
            ],
            "text/plain": [
              "<IPython.core.display.Javascript object>"
            ]
          },
          "metadata": {
            "tags": []
          }
        },
        {
          "output_type": "display_data",
          "data": {
            "application/javascript": [
              "\n",
              "        if (window._pyforest_update_imports_cell) { window._pyforest_update_imports_cell('import pandas as pd\\nimport seaborn as sns\\nimport numpy as np\\nimport matplotlib.pyplot as plt'); }\n",
              "    "
            ],
            "text/plain": [
              "<IPython.core.display.Javascript object>"
            ]
          },
          "metadata": {
            "tags": []
          }
        },
        {
          "output_type": "display_data",
          "data": {
            "image/png": "[encoded data removed]",
            "text/plain": [
              "<Figure size 1008x432 with 1 Axes>"
            ]
          },
          "metadata": {
            "tags": [],
            "needs_background": "light"
          }
        }
      ]
    },
    {
      "cell_type": "code",
      "metadata": {
        "colab": {
          "base_uri": "https://localhost:8080/",
          "height": 195
        },
        "id": "u3VjvMz9sYnO",
        "outputId": "38e45686-2eab-4de7-84f0-5e4325b9a2cb"
      },
      "source": [
        "pd.DataFrame(forecast.yhat.tail())"
      ],
      "execution_count": 30,
      "outputs": [
        {
          "output_type": "display_data",
          "data": {
            "application/javascript": [
              "\n",
              "        if (window._pyforest_update_imports_cell) { window._pyforest_update_imports_cell('import pandas as pd\\nimport seaborn as sns\\nimport numpy as np\\nimport matplotlib.pyplot as plt'); }\n",
              "    "
            ],
            "text/plain": [
              "<IPython.core.display.Javascript object>"
            ]
          },
          "metadata": {
            "tags": []
          }
        },
        {
          "output_type": "execute_result",
          "data": {
            "text/html": [
              "<div>\n",
              "<style scoped>\n",
              "    .dataframe tbody tr th:only-of-type {\n",
              "        vertical-align: middle;\n",
              "    }\n",
              "\n",
              "    .dataframe tbody tr th {\n",
              "        vertical-align: top;\n",
              "    }\n",
              "\n",
              "    .dataframe thead th {\n",
              "        text-align: right;\n",
              "    }\n",
              "</style>\n",
              "<table border=\"1\" class=\"dataframe\">\n",
              "  <thead>\n",
              "    <tr style=\"text-align: right;\">\n",
              "      <th></th>\n",
              "      <th>yhat</th>\n",
              "    </tr>\n",
              "  </thead>\n",
              "  <tbody>\n",
              "    <tr>\n",
              "      <th>5283</th>\n",
              "      <td>29466.557252</td>\n",
              "    </tr>\n",
              "    <tr>\n",
              "      <th>5284</th>\n",
              "      <td>29467.488063</td>\n",
              "    </tr>\n",
              "    <tr>\n",
              "      <th>5285</th>\n",
              "      <td>29718.486820</td>\n",
              "    </tr>\n",
              "    <tr>\n",
              "      <th>5286</th>\n",
              "      <td>29719.326242</td>\n",
              "    </tr>\n",
              "    <tr>\n",
              "      <th>5287</th>\n",
              "      <td>29469.752189</td>\n",
              "    </tr>\n",
              "  </tbody>\n",
              "</table>\n",
              "</div>"
            ],
            "text/plain": [
              "              yhat\n",
              "5283  29466.557252\n",
              "5284  29467.488063\n",
              "5285  29718.486820\n",
              "5286  29719.326242\n",
              "5287  29469.752189"
            ]
          },
          "metadata": {
            "tags": []
          },
          "execution_count": 30
        }
      ]
    },
    {
      "cell_type": "code",
      "metadata": {
        "colab": {
          "base_uri": "https://localhost:8080/",
          "height": 195
        },
        "id": "wknhg1uSsa5H",
        "outputId": "b50f5f31-67c5-45bd-d1bf-52ec475bfd50"
      },
      "source": [
        "test.tail()"
      ],
      "execution_count": 31,
      "outputs": [
        {
          "output_type": "execute_result",
          "data": {
            "text/html": [
              "<div>\n",
              "<style scoped>\n",
              "    .dataframe tbody tr th:only-of-type {\n",
              "        vertical-align: middle;\n",
              "    }\n",
              "\n",
              "    .dataframe tbody tr th {\n",
              "        vertical-align: top;\n",
              "    }\n",
              "\n",
              "    .dataframe thead th {\n",
              "        text-align: right;\n",
              "    }\n",
              "</style>\n",
              "<table border=\"1\" class=\"dataframe\">\n",
              "  <thead>\n",
              "    <tr style=\"text-align: right;\">\n",
              "      <th></th>\n",
              "      <th>ds</th>\n",
              "      <th>y</th>\n",
              "    </tr>\n",
              "  </thead>\n",
              "  <tbody>\n",
              "    <tr>\n",
              "      <th>5284</th>\n",
              "      <td>2021-01-04</td>\n",
              "      <td>30223.890625</td>\n",
              "    </tr>\n",
              "    <tr>\n",
              "      <th>5285</th>\n",
              "      <td>2021-01-05</td>\n",
              "      <td>30391.599609</td>\n",
              "    </tr>\n",
              "    <tr>\n",
              "      <th>5286</th>\n",
              "      <td>2021-01-06</td>\n",
              "      <td>30829.400391</td>\n",
              "    </tr>\n",
              "    <tr>\n",
              "      <th>5287</th>\n",
              "      <td>2021-01-07</td>\n",
              "      <td>31041.130859</td>\n",
              "    </tr>\n",
              "    <tr>\n",
              "      <th>5288</th>\n",
              "      <td>2021-01-08</td>\n",
              "      <td>31097.970703</td>\n",
              "    </tr>\n",
              "  </tbody>\n",
              "</table>\n",
              "</div>"
            ],
            "text/plain": [
              "             ds             y\n",
              "5284 2021-01-04  30223.890625\n",
              "5285 2021-01-05  30391.599609\n",
              "5286 2021-01-06  30829.400391\n",
              "5287 2021-01-07  31041.130859\n",
              "5288 2021-01-08  31097.970703"
            ]
          },
          "metadata": {
            "tags": []
          },
          "execution_count": 31
        }
      ]
    },
    {
      "cell_type": "code",
      "metadata": {
        "colab": {
          "base_uri": "https://localhost:8080/",
          "height": 166
        },
        "id": "PHpiY_B5seOw",
        "outputId": "cd357248-d1fb-4834-fc3c-591fcc57f904"
      },
      "source": [
        "combine = pd.concat([test.tail(), pd.DataFrame(forecast.yhat.tail())], axis=1).dropna()\r\n",
        "combine['accuracy'] = round(combine.apply(lambda row: row.yhat / \r\n",
        "                                            row.y *100, axis = 1),2)\r\n",
        "combine['accuracy'] = pd.Series([\"{0:.2f}%\".format(val) for val in combine['accuracy']], \r\n",
        "                                     index = combine.index)\r\n",
        "combine"
      ],
      "execution_count": 33,
      "outputs": [
        {
          "output_type": "display_data",
          "data": {
            "application/javascript": [
              "\n",
              "        if (window._pyforest_update_imports_cell) { window._pyforest_update_imports_cell('import pandas as pd\\nimport seaborn as sns\\nimport numpy as np\\nimport matplotlib.pyplot as plt'); }\n",
              "    "
            ],
            "text/plain": [
              "<IPython.core.display.Javascript object>"
            ]
          },
          "metadata": {
            "tags": []
          }
        },
        {
          "output_type": "display_data",
          "data": {
            "application/javascript": [
              "\n",
              "        if (window._pyforest_update_imports_cell) { window._pyforest_update_imports_cell('import pandas as pd\\nimport seaborn as sns\\nimport numpy as np\\nimport matplotlib.pyplot as plt'); }\n",
              "    "
            ],
            "text/plain": [
              "<IPython.core.display.Javascript object>"
            ]
          },
          "metadata": {
            "tags": []
          }
        },
        {
          "output_type": "display_data",
          "data": {
            "application/javascript": [
              "\n",
              "        if (window._pyforest_update_imports_cell) { window._pyforest_update_imports_cell('import pandas as pd\\nimport seaborn as sns\\nimport numpy as np\\nimport matplotlib.pyplot as plt'); }\n",
              "    "
            ],
            "text/plain": [
              "<IPython.core.display.Javascript object>"
            ]
          },
          "metadata": {
            "tags": []
          }
        },
        {
          "output_type": "execute_result",
          "data": {
            "text/html": [
              "<div>\n",
              "<style scoped>\n",
              "    .dataframe tbody tr th:only-of-type {\n",
              "        vertical-align: middle;\n",
              "    }\n",
              "\n",
              "    .dataframe tbody tr th {\n",
              "        vertical-align: top;\n",
              "    }\n",
              "\n",
              "    .dataframe thead th {\n",
              "        text-align: right;\n",
              "    }\n",
              "</style>\n",
              "<table border=\"1\" class=\"dataframe\">\n",
              "  <thead>\n",
              "    <tr style=\"text-align: right;\">\n",
              "      <th></th>\n",
              "      <th>ds</th>\n",
              "      <th>y</th>\n",
              "      <th>yhat</th>\n",
              "      <th>accuracy</th>\n",
              "    </tr>\n",
              "  </thead>\n",
              "  <tbody>\n",
              "    <tr>\n",
              "      <th>5284</th>\n",
              "      <td>2021-01-04</td>\n",
              "      <td>30223.890625</td>\n",
              "      <td>29467.488063</td>\n",
              "      <td>97.50%</td>\n",
              "    </tr>\n",
              "    <tr>\n",
              "      <th>5285</th>\n",
              "      <td>2021-01-05</td>\n",
              "      <td>30391.599609</td>\n",
              "      <td>29718.486820</td>\n",
              "      <td>97.79%</td>\n",
              "    </tr>\n",
              "    <tr>\n",
              "      <th>5286</th>\n",
              "      <td>2021-01-06</td>\n",
              "      <td>30829.400391</td>\n",
              "      <td>29719.326242</td>\n",
              "      <td>96.40%</td>\n",
              "    </tr>\n",
              "    <tr>\n",
              "      <th>5287</th>\n",
              "      <td>2021-01-07</td>\n",
              "      <td>31041.130859</td>\n",
              "      <td>29469.752189</td>\n",
              "      <td>94.94%</td>\n",
              "    </tr>\n",
              "  </tbody>\n",
              "</table>\n",
              "</div>"
            ],
            "text/plain": [
              "             ds             y          yhat accuracy\n",
              "5284 2021-01-04  30223.890625  29467.488063   97.50%\n",
              "5285 2021-01-05  30391.599609  29718.486820   97.79%\n",
              "5286 2021-01-06  30829.400391  29719.326242   96.40%\n",
              "5287 2021-01-07  31041.130859  29469.752189   94.94%"
            ]
          },
          "metadata": {
            "tags": []
          },
          "execution_count": 33
        }
      ]
    },
    {
      "cell_type": "code",
      "metadata": {
        "colab": {
          "base_uri": "https://localhost:8080/"
        },
        "id": "FymP5qjvspZJ",
        "outputId": "a13e0682-89ae-4b2a-8310-525bbf5fc39c"
      },
      "source": [
        "window = 6\r\n",
        "x_train,y_train,x_test,y_test,scaler = get_reg_train_test(dji_series,\r\n",
        "                                                      sequence_length=window+1,\r\n",
        "                                                      roll_mean_window=None,\r\n",
        "                                                      normalize=True,\r\n",
        "                                                      scale=False)\r\n",
        "    \r\n",
        "print(\"Data Split Complete\")\r\n",
        "\r\n",
        "print(\"x_train shape={}\".format(x_train.shape))\r\n",
        "print(\"y_train shape={}\".format(y_train.shape))\r\n",
        "print(\"x_test shape={}\".format(x_test.shape))\r\n",
        "print(\"y_test shape={}\".format(y_test.shape))"
      ],
      "execution_count": 36,
      "outputs": [
        {
          "output_type": "stream",
          "text": [
            "Data Split Complete\n",
            "x_train shape=(4754, 6, 1)\n",
            "y_train shape=(4754,)\n",
            "x_test shape=(528, 6, 1)\n",
            "y_test shape=(528,)\n"
          ],
          "name": "stdout"
        }
      ]
    },
    {
      "cell_type": "code",
      "metadata": {
        "colab": {
          "base_uri": "https://localhost:8080/"
        },
        "id": "B6eDJlY_s3xh",
        "outputId": "708b9280-a27f-4a12-f3f6-63e2254ff55e"
      },
      "source": [
        "import itertools\r\n",
        "import time\r\n",
        "\r\n",
        "pred_length = int(window/2)\r\n",
        "stock_index = '^DJI'\r\n",
        "\r\n",
        "# prepare LSTM model\r\n",
        "stm_model=None\r\n",
        "try:\r\n",
        "    lstm_model = get_reg_model(layer_units=[50,100],window_size=window)   \r\n",
        "except:\r\n",
        "    print(\"Model Build Failed. Trying Again\")\r\n",
        "    lstm_model = get_reg_model(layer_units=[50,100],window_size=window)"
      ],
      "execution_count": 37,
      "outputs": [
        {
          "output_type": "stream",
          "text": [
            "> Compilation Time :  0.015563488006591797\n",
            "Model: \"sequential\"\n",
            "_________________________________________________________________\n",
            "Layer (type)                 Output Shape              Param #   \n",
            "=================================================================\n",
            "lstm (LSTM)                  (None, 6, 50)             10400     \n",
            "_________________________________________________________________\n",
            "dropout (Dropout)            (None, 6, 50)             0         \n",
            "_________________________________________________________________\n",
            "lstm_1 (LSTM)                (None, 100)               60400     \n",
            "_________________________________________________________________\n",
            "dropout_1 (Dropout)          (None, 100)               0         \n",
            "_________________________________________________________________\n",
            "dense (Dense)                (None, 1)                 101       \n",
            "_________________________________________________________________\n",
            "activation (Activation)      (None, 1)                 0         \n",
            "=================================================================\n",
            "Total params: 70,901\n",
            "Trainable params: 70,901\n",
            "Non-trainable params: 0\n",
            "_________________________________________________________________\n",
            "None\n"
          ],
          "name": "stdout"
        }
      ]
    },
    {
      "cell_type": "code",
      "metadata": {
        "colab": {
          "base_uri": "https://localhost:8080/"
        },
        "id": "OLSHcW4ps-RY",
        "outputId": "54200c09-b311-4bf9-c8ba-40d486465811"
      },
      "source": [
        "# eatrly stopping to avoid overfitting     \r\n",
        "callbacks = [keras.callbacks.EarlyStopping(monitor='val_loss',patience=2,verbose=0)]\r\n",
        "lstm_model.fit(x_train, y_train, epochs=20, batch_size=16,verbose=1,validation_split=0.05,\r\n",
        "               callbacks=callbacks)\r\n",
        "print(\"Model Fit Complete\")"
      ],
      "execution_count": 38,
      "outputs": [
        {
          "output_type": "stream",
          "text": [
            "Epoch 1/20\n",
            "283/283 [==============================] - 6s 9ms/step - loss: 3.4952e-04 - val_loss: 1.8163e-04\n",
            "Epoch 2/20\n",
            "283/283 [==============================] - 2s 7ms/step - loss: 1.7136e-04 - val_loss: 1.2639e-04\n",
            "Epoch 3/20\n",
            "283/283 [==============================] - 2s 7ms/step - loss: 1.6264e-04 - val_loss: 1.2114e-04\n",
            "Epoch 4/20\n",
            "283/283 [==============================] - 2s 7ms/step - loss: 1.5533e-04 - val_loss: 1.0776e-04\n",
            "Epoch 5/20\n",
            "283/283 [==============================] - 2s 7ms/step - loss: 1.4803e-04 - val_loss: 1.1010e-04\n",
            "Epoch 6/20\n",
            "283/283 [==============================] - 2s 7ms/step - loss: 1.4453e-04 - val_loss: 1.1148e-04\n",
            "Model Fit Complete\n"
          ],
          "name": "stdout"
        }
      ]
    },
    {
      "cell_type": "markdown",
      "metadata": {
        "id": "4loSJT09tEYq"
      },
      "source": [
        "**Performance on train data**"
      ]
    },
    {
      "cell_type": "code",
      "metadata": {
        "colab": {
          "base_uri": "https://localhost:8080/"
        },
        "id": "azCjcwqQtCgA",
        "outputId": "229f751b-7854-4676-8c49-2c14525d1b45"
      },
      "source": [
        "train_pred = predict_reg_multiple(lstm_model,x_train, window_size=window,prediction_len=pred_length)\r\n",
        "train_offset = y_train.shape[0] - np.array(train_pred).flatten().shape[0]\r\n",
        "\r\n",
        "train_rmse = math.sqrt(mean_squared_error(y_train[train_offset:], np.array(train_pred).flatten()))\r\n",
        "print('Train Score: %.2f RMSE' % (train_rmse))\r\n",
        "\r\n",
        "# Test Prediction Performance\r\n",
        "test_pred = \\\r\n",
        "predict_reg_multiple(lstm_model,x_test, window_size=window,prediction_len=pred_length)\r\n",
        "test_offset = y_test.shape[0] - np.array(test_pred).flatten().shape[0]\r\n",
        "\r\n",
        "test_rmse = \\\r\n",
        "math.sqrt(mean_squared_error(y_test[test_offset:], np.array(test_pred).flatten()))\r\n",
        "print('Test Score: %.2f RMSE' % (test_rmse))"
      ],
      "execution_count": 39,
      "outputs": [
        {
          "output_type": "stream",
          "text": [
            "Train Score: 0.03 RMSE\n",
            "Test Score: 0.03 RMSE\n"
          ],
          "name": "stdout"
        }
      ]
    },
    {
      "cell_type": "markdown",
      "metadata": {
        "id": "P5QjT8ZetQuw"
      },
      "source": [
        "**Test Prediction Performance**"
      ]
    },
    {
      "cell_type": "code",
      "metadata": {
        "colab": {
          "base_uri": "https://localhost:8080/"
        },
        "id": "FtOtAE-MtOsY",
        "outputId": "16aa1d84-4fcc-443a-c0f2-72ee03dec4cd"
      },
      "source": [
        "test_pred = \\\r\n",
        "predict_reg_multiple(lstm_model,x_test, window_size=window,prediction_len=pred_length)\r\n",
        "test_offset = y_test.shape[0] - np.array(test_pred).flatten().shape[0]\r\n",
        "\r\n",
        "test_rmse = \\\r\n",
        "math.sqrt(mean_squared_error(y_test[test_offset:], np.array(test_pred).flatten()))\r\n",
        "print('Test Score: %.2f RMSE' % (test_rmse))"
      ],
      "execution_count": 41,
      "outputs": [
        {
          "output_type": "stream",
          "text": [
            "Test Score: 0.03 RMSE\n"
          ],
          "name": "stdout"
        }
      ]
    },
    {
      "cell_type": "markdown",
      "metadata": {
        "id": "iDwoKih8tdYp"
      },
      "source": [
        "**Plot Test Predictions**"
      ]
    },
    {
      "cell_type": "code",
      "metadata": {
        "colab": {
          "base_uri": "https://localhost:8080/",
          "height": 391
        },
        "id": "fzMZGz85tbn5",
        "outputId": "aeaad830-20ee-4b94-a7d8-f7cb6d08caac"
      },
      "source": [
        "plot_reg_results(test_pred,y_test,prediction_len=pred_length)\r\n",
        "plt.show()"
      ],
      "execution_count": 42,
      "outputs": [
        {
          "output_type": "display_data",
          "data": {
            "application/javascript": [
              "\n",
              "        if (window._pyforest_update_imports_cell) { window._pyforest_update_imports_cell('import pandas as pd\\nimport seaborn as sns\\nimport numpy as np\\nimport matplotlib.pyplot as plt'); }\n",
              "    "
            ],
            "text/plain": [
              "<IPython.core.display.Javascript object>"
            ]
          },
          "metadata": {
            "tags": []
          }
        },
        {
          "output_type": "display_data",
          "data": {
            "application/javascript": [
              "\n",
              "        if (window._pyforest_update_imports_cell) { window._pyforest_update_imports_cell('import pandas as pd\\nimport seaborn as sns\\nimport numpy as np\\nimport matplotlib.pyplot as plt'); }\n",
              "    "
            ],
            "text/plain": [
              "<IPython.core.display.Javascript object>"
            ]
          },
          "metadata": {
            "tags": []
          }
        },
        {
          "output_type": "display_data",
          "data": {
            "application/javascript": [
              "\n",
              "        if (window._pyforest_update_imports_cell) { window._pyforest_update_imports_cell('import pandas as pd\\nimport seaborn as sns\\nimport numpy as np\\nimport matplotlib.pyplot as plt'); }\n",
              "    "
            ],
            "text/plain": [
              "<IPython.core.display.Javascript object>"
            ]
          },
          "metadata": {
            "tags": []
          }
        },
        {
          "output_type": "display_data",
          "data": {
            "application/javascript": [
              "\n",
              "        if (window._pyforest_update_imports_cell) { window._pyforest_update_imports_cell('import pandas as pd\\nimport seaborn as sns\\nimport numpy as np\\nimport matplotlib.pyplot as plt'); }\n",
              "    "
            ],
            "text/plain": [
              "<IPython.core.display.Javascript object>"
            ]
          },
          "metadata": {
            "tags": []
          }
        },
        {
          "output_type": "display_data",
          "data": {
            "application/javascript": [
              "\n",
              "        if (window._pyforest_update_imports_cell) { window._pyforest_update_imports_cell('import pandas as pd\\nimport seaborn as sns\\nimport numpy as np\\nimport matplotlib.pyplot as plt'); }\n",
              "    "
            ],
            "text/plain": [
              "<IPython.core.display.Javascript object>"
            ]
          },
          "metadata": {
            "tags": []
          }
        },
        {
          "output_type": "display_data",
          "data": {
            "application/javascript": [
              "\n",
              "        if (window._pyforest_update_imports_cell) { window._pyforest_update_imports_cell('import pandas as pd\\nimport seaborn as sns\\nimport numpy as np\\nimport matplotlib.pyplot as plt'); }\n",
              "    "
            ],
            "text/plain": [
              "<IPython.core.display.Javascript object>"
            ]
          },
          "metadata": {
            "tags": []
          }
        },
        {
          "output_type": "display_data",
          "data": {
            "application/javascript": [
              "\n",
              "        if (window._pyforest_update_imports_cell) { window._pyforest_update_imports_cell('import pandas as pd\\nimport seaborn as sns\\nimport numpy as np\\nimport matplotlib.pyplot as plt'); }\n",
              "    "
            ],
            "text/plain": [
              "<IPython.core.display.Javascript object>"
            ]
          },
          "metadata": {
            "tags": []
          }
        },
        {
          "output_type": "display_data",
          "data": {
            "application/javascript": [
              "\n",
              "        if (window._pyforest_update_imports_cell) { window._pyforest_update_imports_cell('import pandas as pd\\nimport seaborn as sns\\nimport numpy as np\\nimport matplotlib.pyplot as plt'); }\n",
              "    "
            ],
            "text/plain": [
              "<IPython.core.display.Javascript object>"
            ]
          },
          "metadata": {
            "tags": []
          }
        },
        {
          "output_type": "display_data",
          "data": {
            "application/javascript": [
              "\n",
              "        if (window._pyforest_update_imports_cell) { window._pyforest_update_imports_cell('import pandas as pd\\nimport seaborn as sns\\nimport numpy as np\\nimport matplotlib.pyplot as plt'); }\n",
              "    "
            ],
            "text/plain": [
              "<IPython.core.display.Javascript object>"
            ]
          },
          "metadata": {
            "tags": []
          }
        },
        {
          "output_type": "display_data",
          "data": {
            "application/javascript": [
              "\n",
              "        if (window._pyforest_update_imports_cell) { window._pyforest_update_imports_cell('import pandas as pd\\nimport seaborn as sns\\nimport numpy as np\\nimport matplotlib.pyplot as plt'); }\n",
              "    "
            ],
            "text/plain": [
              "<IPython.core.display.Javascript object>"
            ]
          },
          "metadata": {
            "tags": []
          }
        },
        {
          "output_type": "display_data",
          "data": {
            "application/javascript": [
              "\n",
              "        if (window._pyforest_update_imports_cell) { window._pyforest_update_imports_cell('import pandas as pd\\nimport seaborn as sns\\nimport numpy as np\\nimport matplotlib.pyplot as plt'); }\n",
              "    "
            ],
            "text/plain": [
              "<IPython.core.display.Javascript object>"
            ]
          },
          "metadata": {
            "tags": []
          }
        },
        {
          "output_type": "display_data",
          "data": {
            "application/javascript": [
              "\n",
              "        if (window._pyforest_update_imports_cell) { window._pyforest_update_imports_cell('import pandas as pd\\nimport seaborn as sns\\nimport numpy as np\\nimport matplotlib.pyplot as plt'); }\n",
              "    "
            ],
            "text/plain": [
              "<IPython.core.display.Javascript object>"
            ]
          },
          "metadata": {
            "tags": []
          }
        },
        {
          "output_type": "display_data",
          "data": {
            "application/javascript": [
              "\n",
              "        if (window._pyforest_update_imports_cell) { window._pyforest_update_imports_cell('import pandas as pd\\nimport seaborn as sns\\nimport numpy as np\\nimport matplotlib.pyplot as plt'); }\n",
              "    "
            ],
            "text/plain": [
              "<IPython.core.display.Javascript object>"
            ]
          },
          "metadata": {
            "tags": []
          }
        },
        {
          "output_type": "display_data",
          "data": {
            "application/javascript": [
              "\n",
              "        if (window._pyforest_update_imports_cell) { window._pyforest_update_imports_cell('import pandas as pd\\nimport seaborn as sns\\nimport numpy as np\\nimport matplotlib.pyplot as plt'); }\n",
              "    "
            ],
            "text/plain": [
              "<IPython.core.display.Javascript object>"
            ]
          },
          "metadata": {
            "tags": []
          }
        },
        {
          "output_type": "display_data",
          "data": {
            "application/javascript": [
              "\n",
              "        if (window._pyforest_update_imports_cell) { window._pyforest_update_imports_cell('import pandas as pd\\nimport seaborn as sns\\nimport numpy as np\\nimport matplotlib.pyplot as plt'); }\n",
              "    "
            ],
            "text/plain": [
              "<IPython.core.display.Javascript object>"
            ]
          },
          "metadata": {
            "tags": []
          }
        },
        {
          "output_type": "display_data",
          "data": {
            "application/javascript": [
              "\n",
              "        if (window._pyforest_update_imports_cell) { window._pyforest_update_imports_cell('import pandas as pd\\nimport seaborn as sns\\nimport numpy as np\\nimport matplotlib.pyplot as plt'); }\n",
              "    "
            ],
            "text/plain": [
              "<IPython.core.display.Javascript object>"
            ]
          },
          "metadata": {
            "tags": []
          }
        },
        {
          "output_type": "display_data",
          "data": {
            "application/javascript": [
              "\n",
              "        if (window._pyforest_update_imports_cell) { window._pyforest_update_imports_cell('import pandas as pd\\nimport seaborn as sns\\nimport numpy as np\\nimport matplotlib.pyplot as plt'); }\n",
              "    "
            ],
            "text/plain": [
              "<IPython.core.display.Javascript object>"
            ]
          },
          "metadata": {
            "tags": []
          }
        },
        {
          "output_type": "display_data",
          "data": {
            "application/javascript": [
              "\n",
              "        if (window._pyforest_update_imports_cell) { window._pyforest_update_imports_cell('import pandas as pd\\nimport seaborn as sns\\nimport numpy as np\\nimport matplotlib.pyplot as plt'); }\n",
              "    "
            ],
            "text/plain": [
              "<IPython.core.display.Javascript object>"
            ]
          },
          "metadata": {
            "tags": []
          }
        },
        {
          "output_type": "display_data",
          "data": {
            "application/javascript": [
              "\n",
              "        if (window._pyforest_update_imports_cell) { window._pyforest_update_imports_cell('import pandas as pd\\nimport seaborn as sns\\nimport numpy as np\\nimport matplotlib.pyplot as plt'); }\n",
              "    "
            ],
            "text/plain": [
              "<IPython.core.display.Javascript object>"
            ]
          },
          "metadata": {
            "tags": []
          }
        },
        {
          "output_type": "display_data",
          "data": {
            "application/javascript": [
              "\n",
              "        if (window._pyforest_update_imports_cell) { window._pyforest_update_imports_cell('import pandas as pd\\nimport seaborn as sns\\nimport numpy as np\\nimport matplotlib.pyplot as plt'); }\n",
              "    "
            ],
            "text/plain": [
              "<IPython.core.display.Javascript object>"
            ]
          },
          "metadata": {
            "tags": []
          }
        },
        {
          "output_type": "display_data",
          "data": {
            "application/javascript": [
              "\n",
              "        if (window._pyforest_update_imports_cell) { window._pyforest_update_imports_cell('import pandas as pd\\nimport seaborn as sns\\nimport numpy as np\\nimport matplotlib.pyplot as plt'); }\n",
              "    "
            ],
            "text/plain": [
              "<IPython.core.display.Javascript object>"
            ]
          },
          "metadata": {
            "tags": []
          }
        },
        {
          "output_type": "display_data",
          "data": {
            "application/javascript": [
              "\n",
              "        if (window._pyforest_update_imports_cell) { window._pyforest_update_imports_cell('import pandas as pd\\nimport seaborn as sns\\nimport numpy as np\\nimport matplotlib.pyplot as plt'); }\n",
              "    "
            ],
            "text/plain": [
              "<IPython.core.display.Javascript object>"
            ]
          },
          "metadata": {
            "tags": []
          }
        },
        {
          "output_type": "display_data",
          "data": {
            "application/javascript": [
              "\n",
              "        if (window._pyforest_update_imports_cell) { window._pyforest_update_imports_cell('import pandas as pd\\nimport seaborn as sns\\nimport numpy as np\\nimport matplotlib.pyplot as plt'); }\n",
              "    "
            ],
            "text/plain": [
              "<IPython.core.display.Javascript object>"
            ]
          },
          "metadata": {
            "tags": []
          }
        },
        {
          "output_type": "display_data",
          "data": {
            "application/javascript": [
              "\n",
              "        if (window._pyforest_update_imports_cell) { window._pyforest_update_imports_cell('import pandas as pd\\nimport seaborn as sns\\nimport numpy as np\\nimport matplotlib.pyplot as plt'); }\n",
              "    "
            ],
            "text/plain": [
              "<IPython.core.display.Javascript object>"
            ]
          },
          "metadata": {
            "tags": []
          }
        },
        {
          "output_type": "display_data",
          "data": {
            "application/javascript": [
              "\n",
              "        if (window._pyforest_update_imports_cell) { window._pyforest_update_imports_cell('import pandas as pd\\nimport seaborn as sns\\nimport numpy as np\\nimport matplotlib.pyplot as plt'); }\n",
              "    "
            ],
            "text/plain": [
              "<IPython.core.display.Javascript object>"
            ]
          },
          "metadata": {
            "tags": []
          }
        },
        {
          "output_type": "display_data",
          "data": {
            "application/javascript": [
              "\n",
              "        if (window._pyforest_update_imports_cell) { window._pyforest_update_imports_cell('import pandas as pd\\nimport seaborn as sns\\nimport numpy as np\\nimport matplotlib.pyplot as plt'); }\n",
              "    "
            ],
            "text/plain": [
              "<IPython.core.display.Javascript object>"
            ]
          },
          "metadata": {
            "tags": []
          }
        },
        {
          "output_type": "display_data",
          "data": {
            "application/javascript": [
              "\n",
              "        if (window._pyforest_update_imports_cell) { window._pyforest_update_imports_cell('import pandas as pd\\nimport seaborn as sns\\nimport numpy as np\\nimport matplotlib.pyplot as plt'); }\n",
              "    "
            ],
            "text/plain": [
              "<IPython.core.display.Javascript object>"
            ]
          },
          "metadata": {
            "tags": []
          }
        },
        {
          "output_type": "display_data",
          "data": {
            "application/javascript": [
              "\n",
              "        if (window._pyforest_update_imports_cell) { window._pyforest_update_imports_cell('import pandas as pd\\nimport seaborn as sns\\nimport numpy as np\\nimport matplotlib.pyplot as plt'); }\n",
              "    "
            ],
            "text/plain": [
              "<IPython.core.display.Javascript object>"
            ]
          },
          "metadata": {
            "tags": []
          }
        },
        {
          "output_type": "display_data",
          "data": {
            "application/javascript": [
              "\n",
              "        if (window._pyforest_update_imports_cell) { window._pyforest_update_imports_cell('import pandas as pd\\nimport seaborn as sns\\nimport numpy as np\\nimport matplotlib.pyplot as plt'); }\n",
              "    "
            ],
            "text/plain": [
              "<IPython.core.display.Javascript object>"
            ]
          },
          "metadata": {
            "tags": []
          }
        },
        {
          "output_type": "display_data",
          "data": {
            "application/javascript": [
              "\n",
              "        if (window._pyforest_update_imports_cell) { window._pyforest_update_imports_cell('import pandas as pd\\nimport seaborn as sns\\nimport numpy as np\\nimport matplotlib.pyplot as plt'); }\n",
              "    "
            ],
            "text/plain": [
              "<IPython.core.display.Javascript object>"
            ]
          },
          "metadata": {
            "tags": []
          }
        },
        {
          "output_type": "display_data",
          "data": {
            "application/javascript": [
              "\n",
              "        if (window._pyforest_update_imports_cell) { window._pyforest_update_imports_cell('import pandas as pd\\nimport seaborn as sns\\nimport numpy as np\\nimport matplotlib.pyplot as plt'); }\n",
              "    "
            ],
            "text/plain": [
              "<IPython.core.display.Javascript object>"
            ]
          },
          "metadata": {
            "tags": []
          }
        },
        {
          "output_type": "display_data",
          "data": {
            "application/javascript": [
              "\n",
              "        if (window._pyforest_update_imports_cell) { window._pyforest_update_imports_cell('import pandas as pd\\nimport seaborn as sns\\nimport numpy as np\\nimport matplotlib.pyplot as plt'); }\n",
              "    "
            ],
            "text/plain": [
              "<IPython.core.display.Javascript object>"
            ]
          },
          "metadata": {
            "tags": []
          }
        },
        {
          "output_type": "display_data",
          "data": {
            "application/javascript": [
              "\n",
              "        if (window._pyforest_update_imports_cell) { window._pyforest_update_imports_cell('import pandas as pd\\nimport seaborn as sns\\nimport numpy as np\\nimport matplotlib.pyplot as plt'); }\n",
              "    "
            ],
            "text/plain": [
              "<IPython.core.display.Javascript object>"
            ]
          },
          "metadata": {
            "tags": []
          }
        },
        {
          "output_type": "display_data",
          "data": {
            "application/javascript": [
              "\n",
              "        if (window._pyforest_update_imports_cell) { window._pyforest_update_imports_cell('import pandas as pd\\nimport seaborn as sns\\nimport numpy as np\\nimport matplotlib.pyplot as plt'); }\n",
              "    "
            ],
            "text/plain": [
              "<IPython.core.display.Javascript object>"
            ]
          },
          "metadata": {
            "tags": []
          }
        },
        {
          "output_type": "display_data",
          "data": {
            "application/javascript": [
              "\n",
              "        if (window._pyforest_update_imports_cell) { window._pyforest_update_imports_cell('import pandas as pd\\nimport seaborn as sns\\nimport numpy as np\\nimport matplotlib.pyplot as plt'); }\n",
              "    "
            ],
            "text/plain": [
              "<IPython.core.display.Javascript object>"
            ]
          },
          "metadata": {
            "tags": []
          }
        },
        {
          "output_type": "display_data",
          "data": {
            "application/javascript": [
              "\n",
              "        if (window._pyforest_update_imports_cell) { window._pyforest_update_imports_cell('import pandas as pd\\nimport seaborn as sns\\nimport numpy as np\\nimport matplotlib.pyplot as plt'); }\n",
              "    "
            ],
            "text/plain": [
              "<IPython.core.display.Javascript object>"
            ]
          },
          "metadata": {
            "tags": []
          }
        },
        {
          "output_type": "display_data",
          "data": {
            "application/javascript": [
              "\n",
              "        if (window._pyforest_update_imports_cell) { window._pyforest_update_imports_cell('import pandas as pd\\nimport seaborn as sns\\nimport numpy as np\\nimport matplotlib.pyplot as plt'); }\n",
              "    "
            ],
            "text/plain": [
              "<IPython.core.display.Javascript object>"
            ]
          },
          "metadata": {
            "tags": []
          }
        },
        {
          "output_type": "display_data",
          "data": {
            "application/javascript": [
              "\n",
              "        if (window._pyforest_update_imports_cell) { window._pyforest_update_imports_cell('import pandas as pd\\nimport seaborn as sns\\nimport numpy as np\\nimport matplotlib.pyplot as plt'); }\n",
              "    "
            ],
            "text/plain": [
              "<IPython.core.display.Javascript object>"
            ]
          },
          "metadata": {
            "tags": []
          }
        },
        {
          "output_type": "display_data",
          "data": {
            "application/javascript": [
              "\n",
              "        if (window._pyforest_update_imports_cell) { window._pyforest_update_imports_cell('import pandas as pd\\nimport seaborn as sns\\nimport numpy as np\\nimport matplotlib.pyplot as plt'); }\n",
              "    "
            ],
            "text/plain": [
              "<IPython.core.display.Javascript object>"
            ]
          },
          "metadata": {
            "tags": []
          }
        },
        {
          "output_type": "display_data",
          "data": {
            "application/javascript": [
              "\n",
              "        if (window._pyforest_update_imports_cell) { window._pyforest_update_imports_cell('import pandas as pd\\nimport seaborn as sns\\nimport numpy as np\\nimport matplotlib.pyplot as plt'); }\n",
              "    "
            ],
            "text/plain": [
              "<IPython.core.display.Javascript object>"
            ]
          },
          "metadata": {
            "tags": []
          }
        },
        {
          "output_type": "display_data",
          "data": {
            "application/javascript": [
              "\n",
              "        if (window._pyforest_update_imports_cell) { window._pyforest_update_imports_cell('import pandas as pd\\nimport seaborn as sns\\nimport numpy as np\\nimport matplotlib.pyplot as plt'); }\n",
              "    "
            ],
            "text/plain": [
              "<IPython.core.display.Javascript object>"
            ]
          },
          "metadata": {
            "tags": []
          }
        },
        {
          "output_type": "display_data",
          "data": {
            "application/javascript": [
              "\n",
              "        if (window._pyforest_update_imports_cell) { window._pyforest_update_imports_cell('import pandas as pd\\nimport seaborn as sns\\nimport numpy as np\\nimport matplotlib.pyplot as plt'); }\n",
              "    "
            ],
            "text/plain": [
              "<IPython.core.display.Javascript object>"
            ]
          },
          "metadata": {
            "tags": []
          }
        },
        {
          "output_type": "display_data",
          "data": {
            "application/javascript": [
              "\n",
              "        if (window._pyforest_update_imports_cell) { window._pyforest_update_imports_cell('import pandas as pd\\nimport seaborn as sns\\nimport numpy as np\\nimport matplotlib.pyplot as plt'); }\n",
              "    "
            ],
            "text/plain": [
              "<IPython.core.display.Javascript object>"
            ]
          },
          "metadata": {
            "tags": []
          }
        },
        {
          "output_type": "display_data",
          "data": {
            "application/javascript": [
              "\n",
              "        if (window._pyforest_update_imports_cell) { window._pyforest_update_imports_cell('import pandas as pd\\nimport seaborn as sns\\nimport numpy as np\\nimport matplotlib.pyplot as plt'); }\n",
              "    "
            ],
            "text/plain": [
              "<IPython.core.display.Javascript object>"
            ]
          },
          "metadata": {
            "tags": []
          }
        },
        {
          "output_type": "display_data",
          "data": {
            "application/javascript": [
              "\n",
              "        if (window._pyforest_update_imports_cell) { window._pyforest_update_imports_cell('import pandas as pd\\nimport seaborn as sns\\nimport numpy as np\\nimport matplotlib.pyplot as plt'); }\n",
              "    "
            ],
            "text/plain": [
              "<IPython.core.display.Javascript object>"
            ]
          },
          "metadata": {
            "tags": []
          }
        },
        {
          "output_type": "display_data",
          "data": {
            "application/javascript": [
              "\n",
              "        if (window._pyforest_update_imports_cell) { window._pyforest_update_imports_cell('import pandas as pd\\nimport seaborn as sns\\nimport numpy as np\\nimport matplotlib.pyplot as plt'); }\n",
              "    "
            ],
            "text/plain": [
              "<IPython.core.display.Javascript object>"
            ]
          },
          "metadata": {
            "tags": []
          }
        },
        {
          "output_type": "display_data",
          "data": {
            "application/javascript": [
              "\n",
              "        if (window._pyforest_update_imports_cell) { window._pyforest_update_imports_cell('import pandas as pd\\nimport seaborn as sns\\nimport numpy as np\\nimport matplotlib.pyplot as plt'); }\n",
              "    "
            ],
            "text/plain": [
              "<IPython.core.display.Javascript object>"
            ]
          },
          "metadata": {
            "tags": []
          }
        },
        {
          "output_type": "display_data",
          "data": {
            "application/javascript": [
              "\n",
              "        if (window._pyforest_update_imports_cell) { window._pyforest_update_imports_cell('import pandas as pd\\nimport seaborn as sns\\nimport numpy as np\\nimport matplotlib.pyplot as plt'); }\n",
              "    "
            ],
            "text/plain": [
              "<IPython.core.display.Javascript object>"
            ]
          },
          "metadata": {
            "tags": []
          }
        },
        {
          "output_type": "display_data",
          "data": {
            "application/javascript": [
              "\n",
              "        if (window._pyforest_update_imports_cell) { window._pyforest_update_imports_cell('import pandas as pd\\nimport seaborn as sns\\nimport numpy as np\\nimport matplotlib.pyplot as plt'); }\n",
              "    "
            ],
            "text/plain": [
              "<IPython.core.display.Javascript object>"
            ]
          },
          "metadata": {
            "tags": []
          }
        },
        {
          "output_type": "display_data",
          "data": {
            "application/javascript": [
              "\n",
              "        if (window._pyforest_update_imports_cell) { window._pyforest_update_imports_cell('import pandas as pd\\nimport seaborn as sns\\nimport numpy as np\\nimport matplotlib.pyplot as plt'); }\n",
              "    "
            ],
            "text/plain": [
              "<IPython.core.display.Javascript object>"
            ]
          },
          "metadata": {
            "tags": []
          }
        },
        {
          "output_type": "display_data",
          "data": {
            "application/javascript": [
              "\n",
              "        if (window._pyforest_update_imports_cell) { window._pyforest_update_imports_cell('import pandas as pd\\nimport seaborn as sns\\nimport numpy as np\\nimport matplotlib.pyplot as plt'); }\n",
              "    "
            ],
            "text/plain": [
              "<IPython.core.display.Javascript object>"
            ]
          },
          "metadata": {
            "tags": []
          }
        },
        {
          "output_type": "display_data",
          "data": {
            "application/javascript": [
              "\n",
              "        if (window._pyforest_update_imports_cell) { window._pyforest_update_imports_cell('import pandas as pd\\nimport seaborn as sns\\nimport numpy as np\\nimport matplotlib.pyplot as plt'); }\n",
              "    "
            ],
            "text/plain": [
              "<IPython.core.display.Javascript object>"
            ]
          },
          "metadata": {
            "tags": []
          }
        },
        {
          "output_type": "display_data",
          "data": {
            "application/javascript": [
              "\n",
              "        if (window._pyforest_update_imports_cell) { window._pyforest_update_imports_cell('import pandas as pd\\nimport seaborn as sns\\nimport numpy as np\\nimport matplotlib.pyplot as plt'); }\n",
              "    "
            ],
            "text/plain": [
              "<IPython.core.display.Javascript object>"
            ]
          },
          "metadata": {
            "tags": []
          }
        },
        {
          "output_type": "display_data",
          "data": {
            "application/javascript": [
              "\n",
              "        if (window._pyforest_update_imports_cell) { window._pyforest_update_imports_cell('import pandas as pd\\nimport seaborn as sns\\nimport numpy as np\\nimport matplotlib.pyplot as plt'); }\n",
              "    "
            ],
            "text/plain": [
              "<IPython.core.display.Javascript object>"
            ]
          },
          "metadata": {
            "tags": []
          }
        },
        {
          "output_type": "display_data",
          "data": {
            "application/javascript": [
              "\n",
              "        if (window._pyforest_update_imports_cell) { window._pyforest_update_imports_cell('import pandas as pd\\nimport seaborn as sns\\nimport numpy as np\\nimport matplotlib.pyplot as plt'); }\n",
              "    "
            ],
            "text/plain": [
              "<IPython.core.display.Javascript object>"
            ]
          },
          "metadata": {
            "tags": []
          }
        },
        {
          "output_type": "display_data",
          "data": {
            "application/javascript": [
              "\n",
              "        if (window._pyforest_update_imports_cell) { window._pyforest_update_imports_cell('import pandas as pd\\nimport seaborn as sns\\nimport numpy as np\\nimport matplotlib.pyplot as plt'); }\n",
              "    "
            ],
            "text/plain": [
              "<IPython.core.display.Javascript object>"
            ]
          },
          "metadata": {
            "tags": []
          }
        },
        {
          "output_type": "display_data",
          "data": {
            "application/javascript": [
              "\n",
              "        if (window._pyforest_update_imports_cell) { window._pyforest_update_imports_cell('import pandas as pd\\nimport seaborn as sns\\nimport numpy as np\\nimport matplotlib.pyplot as plt'); }\n",
              "    "
            ],
            "text/plain": [
              "<IPython.core.display.Javascript object>"
            ]
          },
          "metadata": {
            "tags": []
          }
        },
        {
          "output_type": "display_data",
          "data": {
            "application/javascript": [
              "\n",
              "        if (window._pyforest_update_imports_cell) { window._pyforest_update_imports_cell('import pandas as pd\\nimport seaborn as sns\\nimport numpy as np\\nimport matplotlib.pyplot as plt'); }\n",
              "    "
            ],
            "text/plain": [
              "<IPython.core.display.Javascript object>"
            ]
          },
          "metadata": {
            "tags": []
          }
        },
        {
          "output_type": "display_data",
          "data": {
            "application/javascript": [
              "\n",
              "        if (window._pyforest_update_imports_cell) { window._pyforest_update_imports_cell('import pandas as pd\\nimport seaborn as sns\\nimport numpy as np\\nimport matplotlib.pyplot as plt'); }\n",
              "    "
            ],
            "text/plain": [
              "<IPython.core.display.Javascript object>"
            ]
          },
          "metadata": {
            "tags": []
          }
        },
        {
          "output_type": "display_data",
          "data": {
            "application/javascript": [
              "\n",
              "        if (window._pyforest_update_imports_cell) { window._pyforest_update_imports_cell('import pandas as pd\\nimport seaborn as sns\\nimport numpy as np\\nimport matplotlib.pyplot as plt'); }\n",
              "    "
            ],
            "text/plain": [
              "<IPython.core.display.Javascript object>"
            ]
          },
          "metadata": {
            "tags": []
          }
        },
        {
          "output_type": "display_data",
          "data": {
            "application/javascript": [
              "\n",
              "        if (window._pyforest_update_imports_cell) { window._pyforest_update_imports_cell('import pandas as pd\\nimport seaborn as sns\\nimport numpy as np\\nimport matplotlib.pyplot as plt'); }\n",
              "    "
            ],
            "text/plain": [
              "<IPython.core.display.Javascript object>"
            ]
          },
          "metadata": {
            "tags": []
          }
        },
        {
          "output_type": "display_data",
          "data": {
            "application/javascript": [
              "\n",
              "        if (window._pyforest_update_imports_cell) { window._pyforest_update_imports_cell('import pandas as pd\\nimport seaborn as sns\\nimport numpy as np\\nimport matplotlib.pyplot as plt'); }\n",
              "    "
            ],
            "text/plain": [
              "<IPython.core.display.Javascript object>"
            ]
          },
          "metadata": {
            "tags": []
          }
        },
        {
          "output_type": "display_data",
          "data": {
            "application/javascript": [
              "\n",
              "        if (window._pyforest_update_imports_cell) { window._pyforest_update_imports_cell('import pandas as pd\\nimport seaborn as sns\\nimport numpy as np\\nimport matplotlib.pyplot as plt'); }\n",
              "    "
            ],
            "text/plain": [
              "<IPython.core.display.Javascript object>"
            ]
          },
          "metadata": {
            "tags": []
          }
        },
        {
          "output_type": "display_data",
          "data": {
            "application/javascript": [
              "\n",
              "        if (window._pyforest_update_imports_cell) { window._pyforest_update_imports_cell('import pandas as pd\\nimport seaborn as sns\\nimport numpy as np\\nimport matplotlib.pyplot as plt'); }\n",
              "    "
            ],
            "text/plain": [
              "<IPython.core.display.Javascript object>"
            ]
          },
          "metadata": {
            "tags": []
          }
        },
        {
          "output_type": "display_data",
          "data": {
            "application/javascript": [
              "\n",
              "        if (window._pyforest_update_imports_cell) { window._pyforest_update_imports_cell('import pandas as pd\\nimport seaborn as sns\\nimport numpy as np\\nimport matplotlib.pyplot as plt'); }\n",
              "    "
            ],
            "text/plain": [
              "<IPython.core.display.Javascript object>"
            ]
          },
          "metadata": {
            "tags": []
          }
        },
        {
          "output_type": "display_data",
          "data": {
            "application/javascript": [
              "\n",
              "        if (window._pyforest_update_imports_cell) { window._pyforest_update_imports_cell('import pandas as pd\\nimport seaborn as sns\\nimport numpy as np\\nimport matplotlib.pyplot as plt'); }\n",
              "    "
            ],
            "text/plain": [
              "<IPython.core.display.Javascript object>"
            ]
          },
          "metadata": {
            "tags": []
          }
        },
        {
          "output_type": "display_data",
          "data": {
            "application/javascript": [
              "\n",
              "        if (window._pyforest_update_imports_cell) { window._pyforest_update_imports_cell('import pandas as pd\\nimport seaborn as sns\\nimport numpy as np\\nimport matplotlib.pyplot as plt'); }\n",
              "    "
            ],
            "text/plain": [
              "<IPython.core.display.Javascript object>"
            ]
          },
          "metadata": {
            "tags": []
          }
        },
        {
          "output_type": "display_data",
          "data": {
            "application/javascript": [
              "\n",
              "        if (window._pyforest_update_imports_cell) { window._pyforest_update_imports_cell('import pandas as pd\\nimport seaborn as sns\\nimport numpy as np\\nimport matplotlib.pyplot as plt'); }\n",
              "    "
            ],
            "text/plain": [
              "<IPython.core.display.Javascript object>"
            ]
          },
          "metadata": {
            "tags": []
          }
        },
        {
          "output_type": "display_data",
          "data": {
            "application/javascript": [
              "\n",
              "        if (window._pyforest_update_imports_cell) { window._pyforest_update_imports_cell('import pandas as pd\\nimport seaborn as sns\\nimport numpy as np\\nimport matplotlib.pyplot as plt'); }\n",
              "    "
            ],
            "text/plain": [
              "<IPython.core.display.Javascript object>"
            ]
          },
          "metadata": {
            "tags": []
          }
        },
        {
          "output_type": "display_data",
          "data": {
            "application/javascript": [
              "\n",
              "        if (window._pyforest_update_imports_cell) { window._pyforest_update_imports_cell('import pandas as pd\\nimport seaborn as sns\\nimport numpy as np\\nimport matplotlib.pyplot as plt'); }\n",
              "    "
            ],
            "text/plain": [
              "<IPython.core.display.Javascript object>"
            ]
          },
          "metadata": {
            "tags": []
          }
        },
        {
          "output_type": "display_data",
          "data": {
            "application/javascript": [
              "\n",
              "        if (window._pyforest_update_imports_cell) { window._pyforest_update_imports_cell('import pandas as pd\\nimport seaborn as sns\\nimport numpy as np\\nimport matplotlib.pyplot as plt'); }\n",
              "    "
            ],
            "text/plain": [
              "<IPython.core.display.Javascript object>"
            ]
          },
          "metadata": {
            "tags": []
          }
        },
        {
          "output_type": "display_data",
          "data": {
            "application/javascript": [
              "\n",
              "        if (window._pyforest_update_imports_cell) { window._pyforest_update_imports_cell('import pandas as pd\\nimport seaborn as sns\\nimport numpy as np\\nimport matplotlib.pyplot as plt'); }\n",
              "    "
            ],
            "text/plain": [
              "<IPython.core.display.Javascript object>"
            ]
          },
          "metadata": {
            "tags": []
          }
        },
        {
          "output_type": "display_data",
          "data": {
            "application/javascript": [
              "\n",
              "        if (window._pyforest_update_imports_cell) { window._pyforest_update_imports_cell('import pandas as pd\\nimport seaborn as sns\\nimport numpy as np\\nimport matplotlib.pyplot as plt'); }\n",
              "    "
            ],
            "text/plain": [
              "<IPython.core.display.Javascript object>"
            ]
          },
          "metadata": {
            "tags": []
          }
        },
        {
          "output_type": "display_data",
          "data": {
            "application/javascript": [
              "\n",
              "        if (window._pyforest_update_imports_cell) { window._pyforest_update_imports_cell('import pandas as pd\\nimport seaborn as sns\\nimport numpy as np\\nimport matplotlib.pyplot as plt'); }\n",
              "    "
            ],
            "text/plain": [
              "<IPython.core.display.Javascript object>"
            ]
          },
          "metadata": {
            "tags": []
          }
        },
        {
          "output_type": "display_data",
          "data": {
            "application/javascript": [
              "\n",
              "        if (window._pyforest_update_imports_cell) { window._pyforest_update_imports_cell('import pandas as pd\\nimport seaborn as sns\\nimport numpy as np\\nimport matplotlib.pyplot as plt'); }\n",
              "    "
            ],
            "text/plain": [
              "<IPython.core.display.Javascript object>"
            ]
          },
          "metadata": {
            "tags": []
          }
        },
        {
          "output_type": "display_data",
          "data": {
            "application/javascript": [
              "\n",
              "        if (window._pyforest_update_imports_cell) { window._pyforest_update_imports_cell('import pandas as pd\\nimport seaborn as sns\\nimport numpy as np\\nimport matplotlib.pyplot as plt'); }\n",
              "    "
            ],
            "text/plain": [
              "<IPython.core.display.Javascript object>"
            ]
          },
          "metadata": {
            "tags": []
          }
        },
        {
          "output_type": "display_data",
          "data": {
            "application/javascript": [
              "\n",
              "        if (window._pyforest_update_imports_cell) { window._pyforest_update_imports_cell('import pandas as pd\\nimport seaborn as sns\\nimport numpy as np\\nimport matplotlib.pyplot as plt'); }\n",
              "    "
            ],
            "text/plain": [
              "<IPython.core.display.Javascript object>"
            ]
          },
          "metadata": {
            "tags": []
          }
        },
        {
          "output_type": "display_data",
          "data": {
            "application/javascript": [
              "\n",
              "        if (window._pyforest_update_imports_cell) { window._pyforest_update_imports_cell('import pandas as pd\\nimport seaborn as sns\\nimport numpy as np\\nimport matplotlib.pyplot as plt'); }\n",
              "    "
            ],
            "text/plain": [
              "<IPython.core.display.Javascript object>"
            ]
          },
          "metadata": {
            "tags": []
          }
        },
        {
          "output_type": "display_data",
          "data": {
            "application/javascript": [
              "\n",
              "        if (window._pyforest_update_imports_cell) { window._pyforest_update_imports_cell('import pandas as pd\\nimport seaborn as sns\\nimport numpy as np\\nimport matplotlib.pyplot as plt'); }\n",
              "    "
            ],
            "text/plain": [
              "<IPython.core.display.Javascript object>"
            ]
          },
          "metadata": {
            "tags": []
          }
        },
        {
          "output_type": "display_data",
          "data": {
            "application/javascript": [
              "\n",
              "        if (window._pyforest_update_imports_cell) { window._pyforest_update_imports_cell('import pandas as pd\\nimport seaborn as sns\\nimport numpy as np\\nimport matplotlib.pyplot as plt'); }\n",
              "    "
            ],
            "text/plain": [
              "<IPython.core.display.Javascript object>"
            ]
          },
          "metadata": {
            "tags": []
          }
        },
        {
          "output_type": "display_data",
          "data": {
            "application/javascript": [
              "\n",
              "        if (window._pyforest_update_imports_cell) { window._pyforest_update_imports_cell('import pandas as pd\\nimport seaborn as sns\\nimport numpy as np\\nimport matplotlib.pyplot as plt'); }\n",
              "    "
            ],
            "text/plain": [
              "<IPython.core.display.Javascript object>"
            ]
          },
          "metadata": {
            "tags": []
          }
        },
        {
          "output_type": "display_data",
          "data": {
            "application/javascript": [
              "\n",
              "        if (window._pyforest_update_imports_cell) { window._pyforest_update_imports_cell('import pandas as pd\\nimport seaborn as sns\\nimport numpy as np\\nimport matplotlib.pyplot as plt'); }\n",
              "    "
            ],
            "text/plain": [
              "<IPython.core.display.Javascript object>"
            ]
          },
          "metadata": {
            "tags": []
          }
        },
        {
          "output_type": "display_data",
          "data": {
            "application/javascript": [
              "\n",
              "        if (window._pyforest_update_imports_cell) { window._pyforest_update_imports_cell('import pandas as pd\\nimport seaborn as sns\\nimport numpy as np\\nimport matplotlib.pyplot as plt'); }\n",
              "    "
            ],
            "text/plain": [
              "<IPython.core.display.Javascript object>"
            ]
          },
          "metadata": {
            "tags": []
          }
        },
        {
          "output_type": "display_data",
          "data": {
            "application/javascript": [
              "\n",
              "        if (window._pyforest_update_imports_cell) { window._pyforest_update_imports_cell('import pandas as pd\\nimport seaborn as sns\\nimport numpy as np\\nimport matplotlib.pyplot as plt'); }\n",
              "    "
            ],
            "text/plain": [
              "<IPython.core.display.Javascript object>"
            ]
          },
          "metadata": {
            "tags": []
          }
        },
        {
          "output_type": "display_data",
          "data": {
            "application/javascript": [
              "\n",
              "        if (window._pyforest_update_imports_cell) { window._pyforest_update_imports_cell('import pandas as pd\\nimport seaborn as sns\\nimport numpy as np\\nimport matplotlib.pyplot as plt'); }\n",
              "    "
            ],
            "text/plain": [
              "<IPython.core.display.Javascript object>"
            ]
          },
          "metadata": {
            "tags": []
          }
        },
        {
          "output_type": "display_data",
          "data": {
            "application/javascript": [
              "\n",
              "        if (window._pyforest_update_imports_cell) { window._pyforest_update_imports_cell('import pandas as pd\\nimport seaborn as sns\\nimport numpy as np\\nimport matplotlib.pyplot as plt'); }\n",
              "    "
            ],
            "text/plain": [
              "<IPython.core.display.Javascript object>"
            ]
          },
          "metadata": {
            "tags": []
          }
        },
        {
          "output_type": "display_data",
          "data": {
            "application/javascript": [
              "\n",
              "        if (window._pyforest_update_imports_cell) { window._pyforest_update_imports_cell('import pandas as pd\\nimport seaborn as sns\\nimport numpy as np\\nimport matplotlib.pyplot as plt'); }\n",
              "    "
            ],
            "text/plain": [
              "<IPython.core.display.Javascript object>"
            ]
          },
          "metadata": {
            "tags": []
          }
        },
        {
          "output_type": "display_data",
          "data": {
            "application/javascript": [
              "\n",
              "        if (window._pyforest_update_imports_cell) { window._pyforest_update_imports_cell('import pandas as pd\\nimport seaborn as sns\\nimport numpy as np\\nimport matplotlib.pyplot as plt'); }\n",
              "    "
            ],
            "text/plain": [
              "<IPython.core.display.Javascript object>"
            ]
          },
          "metadata": {
            "tags": []
          }
        },
        {
          "output_type": "display_data",
          "data": {
            "application/javascript": [
              "\n",
              "        if (window._pyforest_update_imports_cell) { window._pyforest_update_imports_cell('import pandas as pd\\nimport seaborn as sns\\nimport numpy as np\\nimport matplotlib.pyplot as plt'); }\n",
              "    "
            ],
            "text/plain": [
              "<IPython.core.display.Javascript object>"
            ]
          },
          "metadata": {
            "tags": []
          }
        },
        {
          "output_type": "display_data",
          "data": {
            "application/javascript": [
              "\n",
              "        if (window._pyforest_update_imports_cell) { window._pyforest_update_imports_cell('import pandas as pd\\nimport seaborn as sns\\nimport numpy as np\\nimport matplotlib.pyplot as plt'); }\n",
              "    "
            ],
            "text/plain": [
              "<IPython.core.display.Javascript object>"
            ]
          },
          "metadata": {
            "tags": []
          }
        },
        {
          "output_type": "display_data",
          "data": {
            "application/javascript": [
              "\n",
              "        if (window._pyforest_update_imports_cell) { window._pyforest_update_imports_cell('import pandas as pd\\nimport seaborn as sns\\nimport numpy as np\\nimport matplotlib.pyplot as plt'); }\n",
              "    "
            ],
            "text/plain": [
              "<IPython.core.display.Javascript object>"
            ]
          },
          "metadata": {
            "tags": []
          }
        },
        {
          "output_type": "display_data",
          "data": {
            "application/javascript": [
              "\n",
              "        if (window._pyforest_update_imports_cell) { window._pyforest_update_imports_cell('import pandas as pd\\nimport seaborn as sns\\nimport numpy as np\\nimport matplotlib.pyplot as plt'); }\n",
              "    "
            ],
            "text/plain": [
              "<IPython.core.display.Javascript object>"
            ]
          },
          "metadata": {
            "tags": []
          }
        },
        {
          "output_type": "display_data",
          "data": {
            "application/javascript": [
              "\n",
              "        if (window._pyforest_update_imports_cell) { window._pyforest_update_imports_cell('import pandas as pd\\nimport seaborn as sns\\nimport numpy as np\\nimport matplotlib.pyplot as plt'); }\n",
              "    "
            ],
            "text/plain": [
              "<IPython.core.display.Javascript object>"
            ]
          },
          "metadata": {
            "tags": []
          }
        },
        {
          "output_type": "display_data",
          "data": {
            "application/javascript": [
              "\n",
              "        if (window._pyforest_update_imports_cell) { window._pyforest_update_imports_cell('import pandas as pd\\nimport seaborn as sns\\nimport numpy as np\\nimport matplotlib.pyplot as plt'); }\n",
              "    "
            ],
            "text/plain": [
              "<IPython.core.display.Javascript object>"
            ]
          },
          "metadata": {
            "tags": []
          }
        },
        {
          "output_type": "display_data",
          "data": {
            "application/javascript": [
              "\n",
              "        if (window._pyforest_update_imports_cell) { window._pyforest_update_imports_cell('import pandas as pd\\nimport seaborn as sns\\nimport numpy as np\\nimport matplotlib.pyplot as plt'); }\n",
              "    "
            ],
            "text/plain": [
              "<IPython.core.display.Javascript object>"
            ]
          },
          "metadata": {
            "tags": []
          }
        },
        {
          "output_type": "display_data",
          "data": {
            "application/javascript": [
              "\n",
              "        if (window._pyforest_update_imports_cell) { window._pyforest_update_imports_cell('import pandas as pd\\nimport seaborn as sns\\nimport numpy as np\\nimport matplotlib.pyplot as plt'); }\n",
              "    "
            ],
            "text/plain": [
              "<IPython.core.display.Javascript object>"
            ]
          },
          "metadata": {
            "tags": []
          }
        },
        {
          "output_type": "display_data",
          "data": {
            "application/javascript": [
              "\n",
              "        if (window._pyforest_update_imports_cell) { window._pyforest_update_imports_cell('import pandas as pd\\nimport seaborn as sns\\nimport numpy as np\\nimport matplotlib.pyplot as plt'); }\n",
              "    "
            ],
            "text/plain": [
              "<IPython.core.display.Javascript object>"
            ]
          },
          "metadata": {
            "tags": []
          }
        },
        {
          "output_type": "display_data",
          "data": {
            "application/javascript": [
              "\n",
              "        if (window._pyforest_update_imports_cell) { window._pyforest_update_imports_cell('import pandas as pd\\nimport seaborn as sns\\nimport numpy as np\\nimport matplotlib.pyplot as plt'); }\n",
              "    "
            ],
            "text/plain": [
              "<IPython.core.display.Javascript object>"
            ]
          },
          "metadata": {
            "tags": []
          }
        },
        {
          "output_type": "display_data",
          "data": {
            "application/javascript": [
              "\n",
              "        if (window._pyforest_update_imports_cell) { window._pyforest_update_imports_cell('import pandas as pd\\nimport seaborn as sns\\nimport numpy as np\\nimport matplotlib.pyplot as plt'); }\n",
              "    "
            ],
            "text/plain": [
              "<IPython.core.display.Javascript object>"
            ]
          },
          "metadata": {
            "tags": []
          }
        },
        {
          "output_type": "display_data",
          "data": {
            "application/javascript": [
              "\n",
              "        if (window._pyforest_update_imports_cell) { window._pyforest_update_imports_cell('import pandas as pd\\nimport seaborn as sns\\nimport numpy as np\\nimport matplotlib.pyplot as plt'); }\n",
              "    "
            ],
            "text/plain": [
              "<IPython.core.display.Javascript object>"
            ]
          },
          "metadata": {
            "tags": []
          }
        },
        {
          "output_type": "display_data",
          "data": {
            "application/javascript": [
              "\n",
              "        if (window._pyforest_update_imports_cell) { window._pyforest_update_imports_cell('import pandas as pd\\nimport seaborn as sns\\nimport numpy as np\\nimport matplotlib.pyplot as plt'); }\n",
              "    "
            ],
            "text/plain": [
              "<IPython.core.display.Javascript object>"
            ]
          },
          "metadata": {
            "tags": []
          }
        },
        {
          "output_type": "display_data",
          "data": {
            "application/javascript": [
              "\n",
              "        if (window._pyforest_update_imports_cell) { window._pyforest_update_imports_cell('import pandas as pd\\nimport seaborn as sns\\nimport numpy as np\\nimport matplotlib.pyplot as plt'); }\n",
              "    "
            ],
            "text/plain": [
              "<IPython.core.display.Javascript object>"
            ]
          },
          "metadata": {
            "tags": []
          }
        },
        {
          "output_type": "display_data",
          "data": {
            "application/javascript": [
              "\n",
              "        if (window._pyforest_update_imports_cell) { window._pyforest_update_imports_cell('import pandas as pd\\nimport seaborn as sns\\nimport numpy as np\\nimport matplotlib.pyplot as plt'); }\n",
              "    "
            ],
            "text/plain": [
              "<IPython.core.display.Javascript object>"
            ]
          },
          "metadata": {
            "tags": []
          }
        },
        {
          "output_type": "display_data",
          "data": {
            "application/javascript": [
              "\n",
              "        if (window._pyforest_update_imports_cell) { window._pyforest_update_imports_cell('import pandas as pd\\nimport seaborn as sns\\nimport numpy as np\\nimport matplotlib.pyplot as plt'); }\n",
              "    "
            ],
            "text/plain": [
              "<IPython.core.display.Javascript object>"
            ]
          },
          "metadata": {
            "tags": []
          }
        },
        {
          "output_type": "display_data",
          "data": {
            "application/javascript": [
              "\n",
              "        if (window._pyforest_update_imports_cell) { window._pyforest_update_imports_cell('import pandas as pd\\nimport seaborn as sns\\nimport numpy as np\\nimport matplotlib.pyplot as plt'); }\n",
              "    "
            ],
            "text/plain": [
              "<IPython.core.display.Javascript object>"
            ]
          },
          "metadata": {
            "tags": []
          }
        },
        {
          "output_type": "display_data",
          "data": {
            "application/javascript": [
              "\n",
              "        if (window._pyforest_update_imports_cell) { window._pyforest_update_imports_cell('import pandas as pd\\nimport seaborn as sns\\nimport numpy as np\\nimport matplotlib.pyplot as plt'); }\n",
              "    "
            ],
            "text/plain": [
              "<IPython.core.display.Javascript object>"
            ]
          },
          "metadata": {
            "tags": []
          }
        },
        {
          "output_type": "display_data",
          "data": {
            "application/javascript": [
              "\n",
              "        if (window._pyforest_update_imports_cell) { window._pyforest_update_imports_cell('import pandas as pd\\nimport seaborn as sns\\nimport numpy as np\\nimport matplotlib.pyplot as plt'); }\n",
              "    "
            ],
            "text/plain": [
              "<IPython.core.display.Javascript object>"
            ]
          },
          "metadata": {
            "tags": []
          }
        },
        {
          "output_type": "display_data",
          "data": {
            "application/javascript": [
              "\n",
              "        if (window._pyforest_update_imports_cell) { window._pyforest_update_imports_cell('import pandas as pd\\nimport seaborn as sns\\nimport numpy as np\\nimport matplotlib.pyplot as plt'); }\n",
              "    "
            ],
            "text/plain": [
              "<IPython.core.display.Javascript object>"
            ]
          },
          "metadata": {
            "tags": []
          }
        },
        {
          "output_type": "display_data",
          "data": {
            "application/javascript": [
              "\n",
              "        if (window._pyforest_update_imports_cell) { window._pyforest_update_imports_cell('import pandas as pd\\nimport seaborn as sns\\nimport numpy as np\\nimport matplotlib.pyplot as plt'); }\n",
              "    "
            ],
            "text/plain": [
              "<IPython.core.display.Javascript object>"
            ]
          },
          "metadata": {
            "tags": []
          }
        },
        {
          "output_type": "display_data",
          "data": {
            "application/javascript": [
              "\n",
              "        if (window._pyforest_update_imports_cell) { window._pyforest_update_imports_cell('import pandas as pd\\nimport seaborn as sns\\nimport numpy as np\\nimport matplotlib.pyplot as plt'); }\n",
              "    "
            ],
            "text/plain": [
              "<IPython.core.display.Javascript object>"
            ]
          },
          "metadata": {
            "tags": []
          }
        },
        {
          "output_type": "display_data",
          "data": {
            "application/javascript": [
              "\n",
              "        if (window._pyforest_update_imports_cell) { window._pyforest_update_imports_cell('import pandas as pd\\nimport seaborn as sns\\nimport numpy as np\\nimport matplotlib.pyplot as plt'); }\n",
              "    "
            ],
            "text/plain": [
              "<IPython.core.display.Javascript object>"
            ]
          },
          "metadata": {
            "tags": []
          }
        },
        {
          "output_type": "display_data",
          "data": {
            "application/javascript": [
              "\n",
              "        if (window._pyforest_update_imports_cell) { window._pyforest_update_imports_cell('import pandas as pd\\nimport seaborn as sns\\nimport numpy as np\\nimport matplotlib.pyplot as plt'); }\n",
              "    "
            ],
            "text/plain": [
              "<IPython.core.display.Javascript object>"
            ]
          },
          "metadata": {
            "tags": []
          }
        },
        {
          "output_type": "display_data",
          "data": {
            "application/javascript": [
              "\n",
              "        if (window._pyforest_update_imports_cell) { window._pyforest_update_imports_cell('import pandas as pd\\nimport seaborn as sns\\nimport numpy as np\\nimport matplotlib.pyplot as plt'); }\n",
              "    "
            ],
            "text/plain": [
              "<IPython.core.display.Javascript object>"
            ]
          },
          "metadata": {
            "tags": []
          }
        },
        {
          "output_type": "display_data",
          "data": {
            "application/javascript": [
              "\n",
              "        if (window._pyforest_update_imports_cell) { window._pyforest_update_imports_cell('import pandas as pd\\nimport seaborn as sns\\nimport numpy as np\\nimport matplotlib.pyplot as plt'); }\n",
              "    "
            ],
            "text/plain": [
              "<IPython.core.display.Javascript object>"
            ]
          },
          "metadata": {
            "tags": []
          }
        },
        {
          "output_type": "display_data",
          "data": {
            "application/javascript": [
              "\n",
              "        if (window._pyforest_update_imports_cell) { window._pyforest_update_imports_cell('import pandas as pd\\nimport seaborn as sns\\nimport numpy as np\\nimport matplotlib.pyplot as plt'); }\n",
              "    "
            ],
            "text/plain": [
              "<IPython.core.display.Javascript object>"
            ]
          },
          "metadata": {
            "tags": []
          }
        },
        {
          "output_type": "display_data",
          "data": {
            "application/javascript": [
              "\n",
              "        if (window._pyforest_update_imports_cell) { window._pyforest_update_imports_cell('import pandas as pd\\nimport seaborn as sns\\nimport numpy as np\\nimport matplotlib.pyplot as plt'); }\n",
              "    "
            ],
            "text/plain": [
              "<IPython.core.display.Javascript object>"
            ]
          },
          "metadata": {
            "tags": []
          }
        },
        {
          "output_type": "display_data",
          "data": {
            "application/javascript": [
              "\n",
              "        if (window._pyforest_update_imports_cell) { window._pyforest_update_imports_cell('import pandas as pd\\nimport seaborn as sns\\nimport numpy as np\\nimport matplotlib.pyplot as plt'); }\n",
              "    "
            ],
            "text/plain": [
              "<IPython.core.display.Javascript object>"
            ]
          },
          "metadata": {
            "tags": []
          }
        },
        {
          "output_type": "display_data",
          "data": {
            "application/javascript": [
              "\n",
              "        if (window._pyforest_update_imports_cell) { window._pyforest_update_imports_cell('import pandas as pd\\nimport seaborn as sns\\nimport numpy as np\\nimport matplotlib.pyplot as plt'); }\n",
              "    "
            ],
            "text/plain": [
              "<IPython.core.display.Javascript object>"
            ]
          },
          "metadata": {
            "tags": []
          }
        },
        {
          "output_type": "display_data",
          "data": {
            "application/javascript": [
              "\n",
              "        if (window._pyforest_update_imports_cell) { window._pyforest_update_imports_cell('import pandas as pd\\nimport seaborn as sns\\nimport numpy as np\\nimport matplotlib.pyplot as plt'); }\n",
              "    "
            ],
            "text/plain": [
              "<IPython.core.display.Javascript object>"
            ]
          },
          "metadata": {
            "tags": []
          }
        },
        {
          "output_type": "display_data",
          "data": {
            "application/javascript": [
              "\n",
              "        if (window._pyforest_update_imports_cell) { window._pyforest_update_imports_cell('import pandas as pd\\nimport seaborn as sns\\nimport numpy as np\\nimport matplotlib.pyplot as plt'); }\n",
              "    "
            ],
            "text/plain": [
              "<IPython.core.display.Javascript object>"
            ]
          },
          "metadata": {
            "tags": []
          }
        },
        {
          "output_type": "display_data",
          "data": {
            "application/javascript": [
              "\n",
              "        if (window._pyforest_update_imports_cell) { window._pyforest_update_imports_cell('import pandas as pd\\nimport seaborn as sns\\nimport numpy as np\\nimport matplotlib.pyplot as plt'); }\n",
              "    "
            ],
            "text/plain": [
              "<IPython.core.display.Javascript object>"
            ]
          },
          "metadata": {
            "tags": []
          }
        },
        {
          "output_type": "display_data",
          "data": {
            "application/javascript": [
              "\n",
              "        if (window._pyforest_update_imports_cell) { window._pyforest_update_imports_cell('import pandas as pd\\nimport seaborn as sns\\nimport numpy as np\\nimport matplotlib.pyplot as plt'); }\n",
              "    "
            ],
            "text/plain": [
              "<IPython.core.display.Javascript object>"
            ]
          },
          "metadata": {
            "tags": []
          }
        },
        {
          "output_type": "display_data",
          "data": {
            "application/javascript": [
              "\n",
              "        if (window._pyforest_update_imports_cell) { window._pyforest_update_imports_cell('import pandas as pd\\nimport seaborn as sns\\nimport numpy as np\\nimport matplotlib.pyplot as plt'); }\n",
              "    "
            ],
            "text/plain": [
              "<IPython.core.display.Javascript object>"
            ]
          },
          "metadata": {
            "tags": []
          }
        },
        {
          "output_type": "display_data",
          "data": {
            "application/javascript": [
              "\n",
              "        if (window._pyforest_update_imports_cell) { window._pyforest_update_imports_cell('import pandas as pd\\nimport seaborn as sns\\nimport numpy as np\\nimport matplotlib.pyplot as plt'); }\n",
              "    "
            ],
            "text/plain": [
              "<IPython.core.display.Javascript object>"
            ]
          },
          "metadata": {
            "tags": []
          }
        },
        {
          "output_type": "display_data",
          "data": {
            "application/javascript": [
              "\n",
              "        if (window._pyforest_update_imports_cell) { window._pyforest_update_imports_cell('import pandas as pd\\nimport seaborn as sns\\nimport numpy as np\\nimport matplotlib.pyplot as plt'); }\n",
              "    "
            ],
            "text/plain": [
              "<IPython.core.display.Javascript object>"
            ]
          },
          "metadata": {
            "tags": []
          }
        },
        {
          "output_type": "display_data",
          "data": {
            "application/javascript": [
              "\n",
              "        if (window._pyforest_update_imports_cell) { window._pyforest_update_imports_cell('import pandas as pd\\nimport seaborn as sns\\nimport numpy as np\\nimport matplotlib.pyplot as plt'); }\n",
              "    "
            ],
            "text/plain": [
              "<IPython.core.display.Javascript object>"
            ]
          },
          "metadata": {
            "tags": []
          }
        },
        {
          "output_type": "display_data",
          "data": {
            "application/javascript": [
              "\n",
              "        if (window._pyforest_update_imports_cell) { window._pyforest_update_imports_cell('import pandas as pd\\nimport seaborn as sns\\nimport numpy as np\\nimport matplotlib.pyplot as plt'); }\n",
              "    "
            ],
            "text/plain": [
              "<IPython.core.display.Javascript object>"
            ]
          },
          "metadata": {
            "tags": []
          }
        },
        {
          "output_type": "display_data",
          "data": {
            "application/javascript": [
              "\n",
              "        if (window._pyforest_update_imports_cell) { window._pyforest_update_imports_cell('import pandas as pd\\nimport seaborn as sns\\nimport numpy as np\\nimport matplotlib.pyplot as plt'); }\n",
              "    "
            ],
            "text/plain": [
              "<IPython.core.display.Javascript object>"
            ]
          },
          "metadata": {
            "tags": []
          }
        },
        {
          "output_type": "display_data",
          "data": {
            "application/javascript": [
              "\n",
              "        if (window._pyforest_update_imports_cell) { window._pyforest_update_imports_cell('import pandas as pd\\nimport seaborn as sns\\nimport numpy as np\\nimport matplotlib.pyplot as plt'); }\n",
              "    "
            ],
            "text/plain": [
              "<IPython.core.display.Javascript object>"
            ]
          },
          "metadata": {
            "tags": []
          }
        },
        {
          "output_type": "display_data",
          "data": {
            "application/javascript": [
              "\n",
              "        if (window._pyforest_update_imports_cell) { window._pyforest_update_imports_cell('import pandas as pd\\nimport seaborn as sns\\nimport numpy as np\\nimport matplotlib.pyplot as plt'); }\n",
              "    "
            ],
            "text/plain": [
              "<IPython.core.display.Javascript object>"
            ]
          },
          "metadata": {
            "tags": []
          }
        },
        {
          "output_type": "display_data",
          "data": {
            "application/javascript": [
              "\n",
              "        if (window._pyforest_update_imports_cell) { window._pyforest_update_imports_cell('import pandas as pd\\nimport seaborn as sns\\nimport numpy as np\\nimport matplotlib.pyplot as plt'); }\n",
              "    "
            ],
            "text/plain": [
              "<IPython.core.display.Javascript object>"
            ]
          },
          "metadata": {
            "tags": []
          }
        },
        {
          "output_type": "display_data",
          "data": {
            "application/javascript": [
              "\n",
              "        if (window._pyforest_update_imports_cell) { window._pyforest_update_imports_cell('import pandas as pd\\nimport seaborn as sns\\nimport numpy as np\\nimport matplotlib.pyplot as plt'); }\n",
              "    "
            ],
            "text/plain": [
              "<IPython.core.display.Javascript object>"
            ]
          },
          "metadata": {
            "tags": []
          }
        },
        {
          "output_type": "display_data",
          "data": {
            "application/javascript": [
              "\n",
              "        if (window._pyforest_update_imports_cell) { window._pyforest_update_imports_cell('import pandas as pd\\nimport seaborn as sns\\nimport numpy as np\\nimport matplotlib.pyplot as plt'); }\n",
              "    "
            ],
            "text/plain": [
              "<IPython.core.display.Javascript object>"
            ]
          },
          "metadata": {
            "tags": []
          }
        },
        {
          "output_type": "display_data",
          "data": {
            "application/javascript": [
              "\n",
              "        if (window._pyforest_update_imports_cell) { window._pyforest_update_imports_cell('import pandas as pd\\nimport seaborn as sns\\nimport numpy as np\\nimport matplotlib.pyplot as plt'); }\n",
              "    "
            ],
            "text/plain": [
              "<IPython.core.display.Javascript object>"
            ]
          },
          "metadata": {
            "tags": []
          }
        },
        {
          "output_type": "display_data",
          "data": {
            "application/javascript": [
              "\n",
              "        if (window._pyforest_update_imports_cell) { window._pyforest_update_imports_cell('import pandas as pd\\nimport seaborn as sns\\nimport numpy as np\\nimport matplotlib.pyplot as plt'); }\n",
              "    "
            ],
            "text/plain": [
              "<IPython.core.display.Javascript object>"
            ]
          },
          "metadata": {
            "tags": []
          }
        },
        {
          "output_type": "display_data",
          "data": {
            "application/javascript": [
              "\n",
              "        if (window._pyforest_update_imports_cell) { window._pyforest_update_imports_cell('import pandas as pd\\nimport seaborn as sns\\nimport numpy as np\\nimport matplotlib.pyplot as plt'); }\n",
              "    "
            ],
            "text/plain": [
              "<IPython.core.display.Javascript object>"
            ]
          },
          "metadata": {
            "tags": []
          }
        },
        {
          "output_type": "display_data",
          "data": {
            "application/javascript": [
              "\n",
              "        if (window._pyforest_update_imports_cell) { window._pyforest_update_imports_cell('import pandas as pd\\nimport seaborn as sns\\nimport numpy as np\\nimport matplotlib.pyplot as plt'); }\n",
              "    "
            ],
            "text/plain": [
              "<IPython.core.display.Javascript object>"
            ]
          },
          "metadata": {
            "tags": []
          }
        },
        {
          "output_type": "display_data",
          "data": {
            "application/javascript": [
              "\n",
              "        if (window._pyforest_update_imports_cell) { window._pyforest_update_imports_cell('import pandas as pd\\nimport seaborn as sns\\nimport numpy as np\\nimport matplotlib.pyplot as plt'); }\n",
              "    "
            ],
            "text/plain": [
              "<IPython.core.display.Javascript object>"
            ]
          },
          "metadata": {
            "tags": []
          }
        },
        {
          "output_type": "display_data",
          "data": {
            "application/javascript": [
              "\n",
              "        if (window._pyforest_update_imports_cell) { window._pyforest_update_imports_cell('import pandas as pd\\nimport seaborn as sns\\nimport numpy as np\\nimport matplotlib.pyplot as plt'); }\n",
              "    "
            ],
            "text/plain": [
              "<IPython.core.display.Javascript object>"
            ]
          },
          "metadata": {
            "tags": []
          }
        },
        {
          "output_type": "display_data",
          "data": {
            "application/javascript": [
              "\n",
              "        if (window._pyforest_update_imports_cell) { window._pyforest_update_imports_cell('import pandas as pd\\nimport seaborn as sns\\nimport numpy as np\\nimport matplotlib.pyplot as plt'); }\n",
              "    "
            ],
            "text/plain": [
              "<IPython.core.display.Javascript object>"
            ]
          },
          "metadata": {
            "tags": []
          }
        },
        {
          "output_type": "display_data",
          "data": {
            "application/javascript": [
              "\n",
              "        if (window._pyforest_update_imports_cell) { window._pyforest_update_imports_cell('import pandas as pd\\nimport seaborn as sns\\nimport numpy as np\\nimport matplotlib.pyplot as plt'); }\n",
              "    "
            ],
            "text/plain": [
              "<IPython.core.display.Javascript object>"
            ]
          },
          "metadata": {
            "tags": []
          }
        },
        {
          "output_type": "display_data",
          "data": {
            "application/javascript": [
              "\n",
              "        if (window._pyforest_update_imports_cell) { window._pyforest_update_imports_cell('import pandas as pd\\nimport seaborn as sns\\nimport numpy as np\\nimport matplotlib.pyplot as plt'); }\n",
              "    "
            ],
            "text/plain": [
              "<IPython.core.display.Javascript object>"
            ]
          },
          "metadata": {
            "tags": []
          }
        },
        {
          "output_type": "display_data",
          "data": {
            "application/javascript": [
              "\n",
              "        if (window._pyforest_update_imports_cell) { window._pyforest_update_imports_cell('import pandas as pd\\nimport seaborn as sns\\nimport numpy as np\\nimport matplotlib.pyplot as plt'); }\n",
              "    "
            ],
            "text/plain": [
              "<IPython.core.display.Javascript object>"
            ]
          },
          "metadata": {
            "tags": []
          }
        },
        {
          "output_type": "display_data",
          "data": {
            "application/javascript": [
              "\n",
              "        if (window._pyforest_update_imports_cell) { window._pyforest_update_imports_cell('import pandas as pd\\nimport seaborn as sns\\nimport numpy as np\\nimport matplotlib.pyplot as plt'); }\n",
              "    "
            ],
            "text/plain": [
              "<IPython.core.display.Javascript object>"
            ]
          },
          "metadata": {
            "tags": []
          }
        },
        {
          "output_type": "display_data",
          "data": {
            "application/javascript": [
              "\n",
              "        if (window._pyforest_update_imports_cell) { window._pyforest_update_imports_cell('import pandas as pd\\nimport seaborn as sns\\nimport numpy as np\\nimport matplotlib.pyplot as plt'); }\n",
              "    "
            ],
            "text/plain": [
              "<IPython.core.display.Javascript object>"
            ]
          },
          "metadata": {
            "tags": []
          }
        },
        {
          "output_type": "display_data",
          "data": {
            "application/javascript": [
              "\n",
              "        if (window._pyforest_update_imports_cell) { window._pyforest_update_imports_cell('import pandas as pd\\nimport seaborn as sns\\nimport numpy as np\\nimport matplotlib.pyplot as plt'); }\n",
              "    "
            ],
            "text/plain": [
              "<IPython.core.display.Javascript object>"
            ]
          },
          "metadata": {
            "tags": []
          }
        },
        {
          "output_type": "display_data",
          "data": {
            "application/javascript": [
              "\n",
              "        if (window._pyforest_update_imports_cell) { window._pyforest_update_imports_cell('import pandas as pd\\nimport seaborn as sns\\nimport numpy as np\\nimport matplotlib.pyplot as plt'); }\n",
              "    "
            ],
            "text/plain": [
              "<IPython.core.display.Javascript object>"
            ]
          },
          "metadata": {
            "tags": []
          }
        },
        {
          "output_type": "display_data",
          "data": {
            "application/javascript": [
              "\n",
              "        if (window._pyforest_update_imports_cell) { window._pyforest_update_imports_cell('import pandas as pd\\nimport seaborn as sns\\nimport numpy as np\\nimport matplotlib.pyplot as plt'); }\n",
              "    "
            ],
            "text/plain": [
              "<IPython.core.display.Javascript object>"
            ]
          },
          "metadata": {
            "tags": []
          }
        },
        {
          "output_type": "display_data",
          "data": {
            "application/javascript": [
              "\n",
              "        if (window._pyforest_update_imports_cell) { window._pyforest_update_imports_cell('import pandas as pd\\nimport seaborn as sns\\nimport numpy as np\\nimport matplotlib.pyplot as plt'); }\n",
              "    "
            ],
            "text/plain": [
              "<IPython.core.display.Javascript object>"
            ]
          },
          "metadata": {
            "tags": []
          }
        },
        {
          "output_type": "display_data",
          "data": {
            "application/javascript": [
              "\n",
              "        if (window._pyforest_update_imports_cell) { window._pyforest_update_imports_cell('import pandas as pd\\nimport seaborn as sns\\nimport numpy as np\\nimport matplotlib.pyplot as plt'); }\n",
              "    "
            ],
            "text/plain": [
              "<IPython.core.display.Javascript object>"
            ]
          },
          "metadata": {
            "tags": []
          }
        },
        {
          "output_type": "display_data",
          "data": {
            "application/javascript": [
              "\n",
              "        if (window._pyforest_update_imports_cell) { window._pyforest_update_imports_cell('import pandas as pd\\nimport seaborn as sns\\nimport numpy as np\\nimport matplotlib.pyplot as plt'); }\n",
              "    "
            ],
            "text/plain": [
              "<IPython.core.display.Javascript object>"
            ]
          },
          "metadata": {
            "tags": []
          }
        },
        {
          "output_type": "display_data",
          "data": {
            "application/javascript": [
              "\n",
              "        if (window._pyforest_update_imports_cell) { window._pyforest_update_imports_cell('import pandas as pd\\nimport seaborn as sns\\nimport numpy as np\\nimport matplotlib.pyplot as plt'); }\n",
              "    "
            ],
            "text/plain": [
              "<IPython.core.display.Javascript object>"
            ]
          },
          "metadata": {
            "tags": []
          }
        },
        {
          "output_type": "display_data",
          "data": {
            "application/javascript": [
              "\n",
              "        if (window._pyforest_update_imports_cell) { window._pyforest_update_imports_cell('import pandas as pd\\nimport seaborn as sns\\nimport numpy as np\\nimport matplotlib.pyplot as plt'); }\n",
              "    "
            ],
            "text/plain": [
              "<IPython.core.display.Javascript object>"
            ]
          },
          "metadata": {
            "tags": []
          }
        },
        {
          "output_type": "display_data",
          "data": {
            "application/javascript": [
              "\n",
              "        if (window._pyforest_update_imports_cell) { window._pyforest_update_imports_cell('import pandas as pd\\nimport seaborn as sns\\nimport numpy as np\\nimport matplotlib.pyplot as plt'); }\n",
              "    "
            ],
            "text/plain": [
              "<IPython.core.display.Javascript object>"
            ]
          },
          "metadata": {
            "tags": []
          }
        },
        {
          "output_type": "display_data",
          "data": {
            "application/javascript": [
              "\n",
              "        if (window._pyforest_update_imports_cell) { window._pyforest_update_imports_cell('import pandas as pd\\nimport seaborn as sns\\nimport numpy as np\\nimport matplotlib.pyplot as plt'); }\n",
              "    "
            ],
            "text/plain": [
              "<IPython.core.display.Javascript object>"
            ]
          },
          "metadata": {
            "tags": []
          }
        },
        {
          "output_type": "display_data",
          "data": {
            "application/javascript": [
              "\n",
              "        if (window._pyforest_update_imports_cell) { window._pyforest_update_imports_cell('import pandas as pd\\nimport seaborn as sns\\nimport numpy as np\\nimport matplotlib.pyplot as plt'); }\n",
              "    "
            ],
            "text/plain": [
              "<IPython.core.display.Javascript object>"
            ]
          },
          "metadata": {
            "tags": []
          }
        },
        {
          "output_type": "display_data",
          "data": {
            "application/javascript": [
              "\n",
              "        if (window._pyforest_update_imports_cell) { window._pyforest_update_imports_cell('import pandas as pd\\nimport seaborn as sns\\nimport numpy as np\\nimport matplotlib.pyplot as plt'); }\n",
              "    "
            ],
            "text/plain": [
              "<IPython.core.display.Javascript object>"
            ]
          },
          "metadata": {
            "tags": []
          }
        },
        {
          "output_type": "display_data",
          "data": {
            "application/javascript": [
              "\n",
              "        if (window._pyforest_update_imports_cell) { window._pyforest_update_imports_cell('import pandas as pd\\nimport seaborn as sns\\nimport numpy as np\\nimport matplotlib.pyplot as plt'); }\n",
              "    "
            ],
            "text/plain": [
              "<IPython.core.display.Javascript object>"
            ]
          },
          "metadata": {
            "tags": []
          }
        },
        {
          "output_type": "display_data",
          "data": {
            "application/javascript": [
              "\n",
              "        if (window._pyforest_update_imports_cell) { window._pyforest_update_imports_cell('import pandas as pd\\nimport seaborn as sns\\nimport numpy as np\\nimport matplotlib.pyplot as plt'); }\n",
              "    "
            ],
            "text/plain": [
              "<IPython.core.display.Javascript object>"
            ]
          },
          "metadata": {
            "tags": []
          }
        },
        {
          "output_type": "display_data",
          "data": {
            "application/javascript": [
              "\n",
              "        if (window._pyforest_update_imports_cell) { window._pyforest_update_imports_cell('import pandas as pd\\nimport seaborn as sns\\nimport numpy as np\\nimport matplotlib.pyplot as plt'); }\n",
              "    "
            ],
            "text/plain": [
              "<IPython.core.display.Javascript object>"
            ]
          },
          "metadata": {
            "tags": []
          }
        },
        {
          "output_type": "display_data",
          "data": {
            "application/javascript": [
              "\n",
              "        if (window._pyforest_update_imports_cell) { window._pyforest_update_imports_cell('import pandas as pd\\nimport seaborn as sns\\nimport numpy as np\\nimport matplotlib.pyplot as plt'); }\n",
              "    "
            ],
            "text/plain": [
              "<IPython.core.display.Javascript object>"
            ]
          },
          "metadata": {
            "tags": []
          }
        },
        {
          "output_type": "display_data",
          "data": {
            "application/javascript": [
              "\n",
              "        if (window._pyforest_update_imports_cell) { window._pyforest_update_imports_cell('import pandas as pd\\nimport seaborn as sns\\nimport numpy as np\\nimport matplotlib.pyplot as plt'); }\n",
              "    "
            ],
            "text/plain": [
              "<IPython.core.display.Javascript object>"
            ]
          },
          "metadata": {
            "tags": []
          }
        },
        {
          "output_type": "display_data",
          "data": {
            "application/javascript": [
              "\n",
              "        if (window._pyforest_update_imports_cell) { window._pyforest_update_imports_cell('import pandas as pd\\nimport seaborn as sns\\nimport numpy as np\\nimport matplotlib.pyplot as plt'); }\n",
              "    "
            ],
            "text/plain": [
              "<IPython.core.display.Javascript object>"
            ]
          },
          "metadata": {
            "tags": []
          }
        },
        {
          "output_type": "display_data",
          "data": {
            "application/javascript": [
              "\n",
              "        if (window._pyforest_update_imports_cell) { window._pyforest_update_imports_cell('import pandas as pd\\nimport seaborn as sns\\nimport numpy as np\\nimport matplotlib.pyplot as plt'); }\n",
              "    "
            ],
            "text/plain": [
              "<IPython.core.display.Javascript object>"
            ]
          },
          "metadata": {
            "tags": []
          }
        },
        {
          "output_type": "display_data",
          "data": {
            "application/javascript": [
              "\n",
              "        if (window._pyforest_update_imports_cell) { window._pyforest_update_imports_cell('import pandas as pd\\nimport seaborn as sns\\nimport numpy as np\\nimport matplotlib.pyplot as plt'); }\n",
              "    "
            ],
            "text/plain": [
              "<IPython.core.display.Javascript object>"
            ]
          },
          "metadata": {
            "tags": []
          }
        },
        {
          "output_type": "display_data",
          "data": {
            "application/javascript": [
              "\n",
              "        if (window._pyforest_update_imports_cell) { window._pyforest_update_imports_cell('import pandas as pd\\nimport seaborn as sns\\nimport numpy as np\\nimport matplotlib.pyplot as plt'); }\n",
              "    "
            ],
            "text/plain": [
              "<IPython.core.display.Javascript object>"
            ]
          },
          "metadata": {
            "tags": []
          }
        },
        {
          "output_type": "display_data",
          "data": {
            "application/javascript": [
              "\n",
              "        if (window._pyforest_update_imports_cell) { window._pyforest_update_imports_cell('import pandas as pd\\nimport seaborn as sns\\nimport numpy as np\\nimport matplotlib.pyplot as plt'); }\n",
              "    "
            ],
            "text/plain": [
              "<IPython.core.display.Javascript object>"
            ]
          },
          "metadata": {
            "tags": []
          }
        },
        {
          "output_type": "display_data",
          "data": {
            "application/javascript": [
              "\n",
              "        if (window._pyforest_update_imports_cell) { window._pyforest_update_imports_cell('import pandas as pd\\nimport seaborn as sns\\nimport numpy as np\\nimport matplotlib.pyplot as plt'); }\n",
              "    "
            ],
            "text/plain": [
              "<IPython.core.display.Javascript object>"
            ]
          },
          "metadata": {
            "tags": []
          }
        },
        {
          "output_type": "display_data",
          "data": {
            "application/javascript": [
              "\n",
              "        if (window._pyforest_update_imports_cell) { window._pyforest_update_imports_cell('import pandas as pd\\nimport seaborn as sns\\nimport numpy as np\\nimport matplotlib.pyplot as plt'); }\n",
              "    "
            ],
            "text/plain": [
              "<IPython.core.display.Javascript object>"
            ]
          },
          "metadata": {
            "tags": []
          }
        },
        {
          "output_type": "display_data",
          "data": {
            "application/javascript": [
              "\n",
              "        if (window._pyforest_update_imports_cell) { window._pyforest_update_imports_cell('import pandas as pd\\nimport seaborn as sns\\nimport numpy as np\\nimport matplotlib.pyplot as plt'); }\n",
              "    "
            ],
            "text/plain": [
              "<IPython.core.display.Javascript object>"
            ]
          },
          "metadata": {
            "tags": []
          }
        },
        {
          "output_type": "display_data",
          "data": {
            "application/javascript": [
              "\n",
              "        if (window._pyforest_update_imports_cell) { window._pyforest_update_imports_cell('import pandas as pd\\nimport seaborn as sns\\nimport numpy as np\\nimport matplotlib.pyplot as plt'); }\n",
              "    "
            ],
            "text/plain": [
              "<IPython.core.display.Javascript object>"
            ]
          },
          "metadata": {
            "tags": []
          }
        },
        {
          "output_type": "display_data",
          "data": {
            "application/javascript": [
              "\n",
              "        if (window._pyforest_update_imports_cell) { window._pyforest_update_imports_cell('import pandas as pd\\nimport seaborn as sns\\nimport numpy as np\\nimport matplotlib.pyplot as plt'); }\n",
              "    "
            ],
            "text/plain": [
              "<IPython.core.display.Javascript object>"
            ]
          },
          "metadata": {
            "tags": []
          }
        },
        {
          "output_type": "display_data",
          "data": {
            "application/javascript": [
              "\n",
              "        if (window._pyforest_update_imports_cell) { window._pyforest_update_imports_cell('import pandas as pd\\nimport seaborn as sns\\nimport numpy as np\\nimport matplotlib.pyplot as plt'); }\n",
              "    "
            ],
            "text/plain": [
              "<IPython.core.display.Javascript object>"
            ]
          },
          "metadata": {
            "tags": []
          }
        },
        {
          "output_type": "display_data",
          "data": {
            "application/javascript": [
              "\n",
              "        if (window._pyforest_update_imports_cell) { window._pyforest_update_imports_cell('import pandas as pd\\nimport seaborn as sns\\nimport numpy as np\\nimport matplotlib.pyplot as plt'); }\n",
              "    "
            ],
            "text/plain": [
              "<IPython.core.display.Javascript object>"
            ]
          },
          "metadata": {
            "tags": []
          }
        },
        {
          "output_type": "display_data",
          "data": {
            "application/javascript": [
              "\n",
              "        if (window._pyforest_update_imports_cell) { window._pyforest_update_imports_cell('import pandas as pd\\nimport seaborn as sns\\nimport numpy as np\\nimport matplotlib.pyplot as plt'); }\n",
              "    "
            ],
            "text/plain": [
              "<IPython.core.display.Javascript object>"
            ]
          },
          "metadata": {
            "tags": []
          }
        },
        {
          "output_type": "display_data",
          "data": {
            "application/javascript": [
              "\n",
              "        if (window._pyforest_update_imports_cell) { window._pyforest_update_imports_cell('import pandas as pd\\nimport seaborn as sns\\nimport numpy as np\\nimport matplotlib.pyplot as plt'); }\n",
              "    "
            ],
            "text/plain": [
              "<IPython.core.display.Javascript object>"
            ]
          },
          "metadata": {
            "tags": []
          }
        },
        {
          "output_type": "display_data",
          "data": {
            "application/javascript": [
              "\n",
              "        if (window._pyforest_update_imports_cell) { window._pyforest_update_imports_cell('import pandas as pd\\nimport seaborn as sns\\nimport numpy as np\\nimport matplotlib.pyplot as plt'); }\n",
              "    "
            ],
            "text/plain": [
              "<IPython.core.display.Javascript object>"
            ]
          },
          "metadata": {
            "tags": []
          }
        },
        {
          "output_type": "display_data",
          "data": {
            "application/javascript": [
              "\n",
              "        if (window._pyforest_update_imports_cell) { window._pyforest_update_imports_cell('import pandas as pd\\nimport seaborn as sns\\nimport numpy as np\\nimport matplotlib.pyplot as plt'); }\n",
              "    "
            ],
            "text/plain": [
              "<IPython.core.display.Javascript object>"
            ]
          },
          "metadata": {
            "tags": []
          }
        },
        {
          "output_type": "display_data",
          "data": {
            "application/javascript": [
              "\n",
              "        if (window._pyforest_update_imports_cell) { window._pyforest_update_imports_cell('import pandas as pd\\nimport seaborn as sns\\nimport numpy as np\\nimport matplotlib.pyplot as plt'); }\n",
              "    "
            ],
            "text/plain": [
              "<IPython.core.display.Javascript object>"
            ]
          },
          "metadata": {
            "tags": []
          }
        },
        {
          "output_type": "display_data",
          "data": {
            "application/javascript": [
              "\n",
              "        if (window._pyforest_update_imports_cell) { window._pyforest_update_imports_cell('import pandas as pd\\nimport seaborn as sns\\nimport numpy as np\\nimport matplotlib.pyplot as plt'); }\n",
              "    "
            ],
            "text/plain": [
              "<IPython.core.display.Javascript object>"
            ]
          },
          "metadata": {
            "tags": []
          }
        },
        {
          "output_type": "display_data",
          "data": {
            "image/png": "[encoded data removed]",
            "text/plain": [
              "<Figure size 1008x432 with 1 Axes>"
            ]
          },
          "metadata": {
            "tags": []
          }
        },
        {
          "output_type": "display_data",
          "data": {
            "application/javascript": [
              "\n",
              "        if (window._pyforest_update_imports_cell) { window._pyforest_update_imports_cell('import pandas as pd\\nimport seaborn as sns\\nimport numpy as np\\nimport matplotlib.pyplot as plt'); }\n",
              "    "
            ],
            "text/plain": [
              "<IPython.core.display.Javascript object>"
            ]
          },
          "metadata": {
            "tags": []
          }
        }
      ]
    },
    {
      "cell_type": "code",
      "metadata": {
        "colab": {
          "base_uri": "https://localhost:8080/"
        },
        "id": "JC3mP8g9t56B",
        "outputId": "93da7eac-5958-409c-ab2c-e44f1be41152"
      },
      "source": [
        "train_percent = 0.7\r\n",
        "verbose=True\r\n",
        "\r\n",
        "# split train and test datasets\r\n",
        "train,test,scaler = \\\r\n",
        "get_seq_train_test(dji_series,scaling=True,train_size=train_percent)\r\n",
        "\r\n",
        "train = np.reshape(train,(1,train.shape[0],1))\r\n",
        "test = np.reshape(test,(1,test.shape[0],1))\r\n",
        "\r\n",
        "train_x = train[:,:-1,:]\r\n",
        "train_y = train[:,1:,:]\r\n",
        "\r\n",
        "test_x = test[:,:-1,:]\r\n",
        "test_y = test[:,1:,:]\r\n",
        "\r\n",
        "print(\"Data Split Complete\")\r\n",
        "\r\n",
        "print(\"train_x shape={}\".format(train_x.shape))\r\n",
        "print(\"train_y shape={}\".format(train_y.shape))\r\n",
        "print(\"test_x shape={}\".format(test_x.shape))\r\n",
        "print(\"test_y shape={}\".format(test_y.shape))"
      ],
      "execution_count": 43,
      "outputs": [
        {
          "output_type": "stream",
          "text": [
            "Data Split Complete\n",
            "train_x shape=(1, 3701, 1)\n",
            "train_y shape=(1, 3701, 1)\n",
            "test_x shape=(1, 1586, 1)\n",
            "test_y shape=(1, 1586, 1)\n"
          ],
          "name": "stdout"
        }
      ]
    },
    {
      "cell_type": "code",
      "metadata": {
        "colab": {
          "base_uri": "https://localhost:8080/"
        },
        "id": "vAkOFembt8RR",
        "outputId": "3f89bb2f-8a75-44b9-fb5d-f368e798a397"
      },
      "source": [
        "# build RNN model\r\n",
        "seq_lstm_model=None\r\n",
        "try:\r\n",
        "    seq_lstm_model = get_seq_model(input_shape=(train_x.shape[1],1),verbose=verbose)   \r\n",
        "except:\r\n",
        "    print(\"Model Build Failed. Trying Again\")\r\n",
        "    seq_lstm_model = get_seq_model(input_shape=(train_x.shape[1],1),verbose=verbose)"
      ],
      "execution_count": 44,
      "outputs": [
        {
          "output_type": "stream",
          "text": [
            "> Compilation Time :  0.008313417434692383\n",
            "Model: \"sequential_1\"\n",
            "_________________________________________________________________\n",
            "Layer (type)                 Output Shape              Param #   \n",
            "=================================================================\n",
            "lstm_2 (LSTM)                (None, 3701, 4)           96        \n",
            "_________________________________________________________________\n",
            "time_distributed (TimeDistri (None, 3701, 1)           5         \n",
            "=================================================================\n",
            "Total params: 101\n",
            "Trainable params: 101\n",
            "Non-trainable params: 0\n",
            "_________________________________________________________________\n",
            "None\n"
          ],
          "name": "stdout"
        }
      ]
    },
    {
      "cell_type": "code",
      "metadata": {
        "colab": {
          "base_uri": "https://localhost:8080/"
        },
        "id": "JcaniF_yt_Nh",
        "outputId": "36184d4f-c2bb-43a9-ad02-792127d372d3"
      },
      "source": [
        "# train the model\r\n",
        "seq_lstm_model.fit(train_x, train_y, epochs=10, batch_size=1, verbose=2)\r\n",
        "print(\"Model Fit Complete\")"
      ],
      "execution_count": 45,
      "outputs": [
        {
          "output_type": "stream",
          "text": [
            "Epoch 1/10\n",
            "1/1 - 2s - loss: 0.1154\n",
            "Epoch 2/10\n",
            "1/1 - 1s - loss: 0.1081\n",
            "Epoch 3/10\n",
            "1/1 - 1s - loss: 0.1032\n",
            "Epoch 4/10\n",
            "1/1 - 1s - loss: 0.0992\n",
            "Epoch 5/10\n",
            "1/1 - 1s - loss: 0.0959\n",
            "Epoch 6/10\n",
            "1/1 - 1s - loss: 0.0929\n",
            "Epoch 7/10\n",
            "1/1 - 1s - loss: 0.0902\n",
            "Epoch 8/10\n",
            "1/1 - 1s - loss: 0.0877\n",
            "Epoch 9/10\n",
            "1/1 - 1s - loss: 0.0853\n",
            "Epoch 10/10\n",
            "1/1 - 1s - loss: 0.0831\n",
            "Model Fit Complete\n"
          ],
          "name": "stdout"
        }
      ]
    },
    {
      "cell_type": "code",
      "metadata": {
        "colab": {
          "base_uri": "https://localhost:8080/"
        },
        "id": "uGZHA5yHuF5S",
        "outputId": "03468d0e-ba64-4f0a-ba6f-189f6322b127"
      },
      "source": [
        "# train fit performance\r\n",
        "train_predict = seq_lstm_model.predict(train_x)\r\n",
        "train_score = math.sqrt(mean_squared_error(train_y[0], train_predict[0]))\r\n",
        "print('Train Score: %.2f RMSE' % (train_score))"
      ],
      "execution_count": 46,
      "outputs": [
        {
          "output_type": "stream",
          "text": [
            "Train Score: 0.28 RMSE\n"
          ],
          "name": "stdout"
        }
      ]
    },
    {
      "cell_type": "code",
      "metadata": {
        "colab": {
          "base_uri": "https://localhost:8080/"
        },
        "id": "ge3wBSrEuJVC",
        "outputId": "af41c2d6-3adb-4f15-9caa-493010f04d2e"
      },
      "source": [
        "# inverse train transformation\r\n",
        "train_predict = scaler.inverse_transform(train_predict.reshape(-1,1))\r\n",
        "train_predict"
      ],
      "execution_count": 47,
      "outputs": [
        {
          "output_type": "execute_result",
          "data": {
            "text/plain": [
              "array([[6557.622 ],\n",
              "       [6246.3413],\n",
              "       [5975.154 ],\n",
              "       ...,\n",
              "       [2650.5977],\n",
              "       [2642.518 ],\n",
              "       [2626.73  ]], dtype=float32)"
            ]
          },
          "metadata": {
            "tags": []
          },
          "execution_count": 47
        }
      ]
    },
    {
      "cell_type": "code",
      "metadata": {
        "colab": {
          "base_uri": "https://localhost:8080/"
        },
        "id": "RKSY0sLkuM4i",
        "outputId": "11777ed5-2f30-451d-b223-f6c92320bf00"
      },
      "source": [
        "from keras.preprocessing.sequence import pad_sequences\r\n",
        "\r\n",
        "# Pad input sequence\r\n",
        "# pad_sequences is used to ensure that all sequences in a list have the same length.\r\n",
        "test_predict = pad_sequences(test_x,maxlen=train_x.shape[1], padding='post',\r\n",
        "                             value=0,dtype='float')\r\n",
        "test_predict"
      ],
      "execution_count": 48,
      "outputs": [
        {
          "output_type": "execute_result",
          "data": {
            "text/plain": [
              "array([[[0.43279965],\n",
              "        [0.42804176],\n",
              "        [0.43432223],\n",
              "        ...,\n",
              "        [0.        ],\n",
              "        [0.        ],\n",
              "        [0.        ]]])"
            ]
          },
          "metadata": {
            "tags": []
          },
          "execution_count": 48
        }
      ]
    },
    {
      "cell_type": "code",
      "metadata": {
        "id": "scBUxlmcuQXR"
      },
      "source": [
        "# forecast values\r\n",
        "test_predict = seq_lstm_model.predict(test_predict)"
      ],
      "execution_count": 49,
      "outputs": []
    },
    {
      "cell_type": "code",
      "metadata": {
        "id": "PtKSV68duS3K"
      },
      "source": [
        "# evaluate performances\r\n",
        "test_score = math.sqrt(mean_squared_error(test_y[0], \r\n",
        "                                          test_predict[0][test_x.shape[1]]))\r\n",
        "print('Test Score: %.2f RMSE' % (test_score))"
      ],
      "execution_count": null,
      "outputs": []
    },
    {
      "cell_type": "code",
      "metadata": {
        "colab": {
          "base_uri": "https://localhost:8080/"
        },
        "id": "ICFbo7azuW8S",
        "outputId": "3fd07aef-1153-4d61-a729-17b01446d3cb"
      },
      "source": [
        "# inverse test transformation\r\n",
        "test_predict = scaler.inverse_transform(test_predict.reshape(-1,1))\r\n",
        "test_predict"
      ],
      "execution_count": 51,
      "outputs": [
        {
          "output_type": "execute_result",
          "data": {
            "text/plain": [
              "array([[5897.2417],\n",
              "       [5032.4224],\n",
              "       [4346.1753],\n",
              "       ...,\n",
              "       [7573.3174],\n",
              "       [7573.3174],\n",
              "       [7573.3174]], dtype=float32)"
            ]
          },
          "metadata": {
            "tags": []
          },
          "execution_count": 51
        }
      ]
    },
    {
      "cell_type": "code",
      "metadata": {
        "colab": {
          "base_uri": "https://localhost:8080/",
          "height": 391
        },
        "id": "J8BLRkhYucTZ",
        "outputId": "60dea8d6-e300-4e50-c20f-4490fcdd1599"
      },
      "source": [
        "# plot the true and forecasted values\r\n",
        "train_size = len(train_predict)+1\r\n",
        "\r\n",
        "plt.plot(dji_series.index,\r\n",
        "         dji_series.values,c='black',\r\n",
        "         alpha=0.3,label='True Data')\r\n",
        "plt.plot(dji_series.index[1:train_size],\r\n",
        "         train_predict,label='Training Fit',c='g')\r\n",
        "plt.plot(dji_series.index[train_size+1:],\r\n",
        "         test_predict[:test_x.shape[1]],label='Testing Forecast')\r\n",
        "plt.title('Forecast Plot')\r\n",
        "plt.legend()\r\n",
        "plt.show()\r\n"
      ],
      "execution_count": 52,
      "outputs": [
        {
          "output_type": "display_data",
          "data": {
            "application/javascript": [
              "\n",
              "        if (window._pyforest_update_imports_cell) { window._pyforest_update_imports_cell('import pandas as pd\\nimport seaborn as sns\\nimport numpy as np\\nimport matplotlib.pyplot as plt'); }\n",
              "    "
            ],
            "text/plain": [
              "<IPython.core.display.Javascript object>"
            ]
          },
          "metadata": {
            "tags": []
          }
        },
        {
          "output_type": "display_data",
          "data": {
            "application/javascript": [
              "\n",
              "        if (window._pyforest_update_imports_cell) { window._pyforest_update_imports_cell('import pandas as pd\\nimport seaborn as sns\\nimport numpy as np\\nimport matplotlib.pyplot as plt'); }\n",
              "    "
            ],
            "text/plain": [
              "<IPython.core.display.Javascript object>"
            ]
          },
          "metadata": {
            "tags": []
          }
        },
        {
          "output_type": "display_data",
          "data": {
            "application/javascript": [
              "\n",
              "        if (window._pyforest_update_imports_cell) { window._pyforest_update_imports_cell('import pandas as pd\\nimport seaborn as sns\\nimport numpy as np\\nimport matplotlib.pyplot as plt'); }\n",
              "    "
            ],
            "text/plain": [
              "<IPython.core.display.Javascript object>"
            ]
          },
          "metadata": {
            "tags": []
          }
        },
        {
          "output_type": "display_data",
          "data": {
            "application/javascript": [
              "\n",
              "        if (window._pyforest_update_imports_cell) { window._pyforest_update_imports_cell('import pandas as pd\\nimport seaborn as sns\\nimport numpy as np\\nimport matplotlib.pyplot as plt'); }\n",
              "    "
            ],
            "text/plain": [
              "<IPython.core.display.Javascript object>"
            ]
          },
          "metadata": {
            "tags": []
          }
        },
        {
          "output_type": "display_data",
          "data": {
            "application/javascript": [
              "\n",
              "        if (window._pyforest_update_imports_cell) { window._pyforest_update_imports_cell('import pandas as pd\\nimport seaborn as sns\\nimport numpy as np\\nimport matplotlib.pyplot as plt'); }\n",
              "    "
            ],
            "text/plain": [
              "<IPython.core.display.Javascript object>"
            ]
          },
          "metadata": {
            "tags": []
          }
        },
        {
          "output_type": "display_data",
          "data": {
            "application/javascript": [
              "\n",
              "        if (window._pyforest_update_imports_cell) { window._pyforest_update_imports_cell('import pandas as pd\\nimport seaborn as sns\\nimport numpy as np\\nimport matplotlib.pyplot as plt'); }\n",
              "    "
            ],
            "text/plain": [
              "<IPython.core.display.Javascript object>"
            ]
          },
          "metadata": {
            "tags": []
          }
        },
        {
          "output_type": "display_data",
          "data": {
            "image/png": "[encoded data removed]",
            "text/plain": [
              "<Figure size 1008x432 with 1 Axes>"
            ]
          },
          "metadata": {
            "tags": [],
            "needs_background": "light"
          }
        }
      ]
    }
  ]
}